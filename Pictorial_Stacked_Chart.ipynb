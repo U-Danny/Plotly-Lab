{
 "cells": [
  {
   "cell_type": "markdown",
   "metadata": {},
   "source": [
    "# Pictorial Stacked Chart plot\n",
    "### Chart plotly test"
   ]
  },
  {
   "cell_type": "code",
   "execution_count": 1,
   "metadata": {},
   "outputs": [],
   "source": [
    "#pip install pandas -q\n",
    "#pip install plotly -q\n",
    "#pip install Pillow -q\n",
    "#pip install cairosvg -q"
   ]
  },
  {
   "cell_type": "code",
   "execution_count": 69,
   "metadata": {},
   "outputs": [
    {
     "data": {
      "application/vnd.plotly.v1+json": {
       "config": {
        "plotlyServerURL": "https://plot.ly"
       },
       "data": [
        {
         "dx": 1,
         "dy": 1,
         "hovertemplate": "X: %{x}<br>Y: %{y}<br>Color: %{z}<extra></extra>",
         "name": "0",
         "source": "data:image/png;base64,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",
         "type": "image",
         "x0": 0,
         "xaxis": "x",
         "y0": 0,
         "yaxis": "y"
        }
       ],
       "layout": {
        "annotations": [
         {
          "arrowsize": 0.5,
          "ax": -50,
          "ay": 0,
          "showarrow": true,
          "text": "16.41% White",
          "x": 0,
          "xanchor": "right",
          "y": 42.014464
         },
         {
          "arrowsize": 0.5,
          "ax": -50,
          "ay": 0,
          "showarrow": true,
          "text": "2.49% Rosé",
          "x": 0,
          "xanchor": "right",
          "y": 90.394624
         },
         {
          "arrowsize": 0.5,
          "ax": -50,
          "ay": 0,
          "showarrow": true,
          "text": "15.1% Red",
          "x": 0,
          "xanchor": "right",
          "y": 135.42016
         }
        ],
        "coloraxis": {
         "colorbar": {
          "x": 0.8
         },
         "showscale": false
        },
        "height": 500,
        "margin": {
         "b": 20,
         "l": 20,
         "r": 20,
         "t": 20
        },
        "template": {
         "data": {
          "scatter": [
           {
            "type": "scatter"
           }
          ]
         }
        },
        "title": {
         "text": "ITALY ",
         "x": 0.5,
         "y": 0.95
        },
        "width": 400,
        "xaxis": {
         "anchor": "y",
         "domain": [
          0,
          1
         ],
         "showticklabels": false,
         "title": {
          "text": "Time"
         },
         "visible": false
        },
        "yaxis": {
         "anchor": "x",
         "domain": [
          0,
          1
         ],
         "showticklabels": false,
         "title": {
          "text": "Y"
         },
         "type": "linear",
         "visible": false
        }
       }
      }
     },
     "metadata": {},
     "output_type": "display_data"
    }
   ],
   "source": [
    "import plotly.express as px\n",
    "import PIL\n",
    "import cairosvg\n",
    "import plotly.express as px\n",
    "import io\n",
    "import numpy as np\n",
    "import pandas as pd\n",
    "\n",
    "#Function generate color scale in array svg\n",
    "def genCategoryColor(matrix,start = 0.33, end = 1, color_rgb=[255,0,0]):\n",
    "    for x in range(int(round(matrix.shape[0]*start,0)), int(round(matrix.shape[0]*end,0))):\n",
    "        if (np.any(matrix[x,:,:])):  \n",
    "            for y in range(matrix.shape[1]): \n",
    "                if (np.any(matrix[x][y])):\n",
    "                    if x>=matrix.shape[0]*start and x < matrix.shape[0]*end:\n",
    "                        matrix[x][y] = [color_rgb[0],color_rgb[1],color_rgb[2],list(matrix[x][y])[-1]]\n",
    "                        # x_l.append(x)\n",
    "                        # y_l.append(y)\n",
    "                        # color_l.append()\n",
    "    return matrix\n",
    "\n",
    "#Function generate annotation in chart\n",
    "def addAnnotation(fig,shape, start= 0.33, end = 1, text='Annotation'):\n",
    "     fig.add_annotation(\n",
    "        x=0,\n",
    "        y=shape[0]*((start+end)/2),\n",
    "        text=text,\n",
    "        showarrow=True,\n",
    "        xanchor=\"right\",\n",
    "        ax=-50,\n",
    "        ay=0,\n",
    "        arrowsize=0.5,\n",
    "    )\n",
    "\n",
    "\n",
    "#data example:\n",
    "\n",
    "pc_1 = {'name':'White', 'start':0, 'end': 0.164119, 'color':[197, 188, 165]}\n",
    "pc_2 = {'name':'Rosé', 'start':0.164119, 'end': 0.188985, 'color':[177, 79, 83]}\n",
    "pc_3 = {'name':'Red', 'start':0.188985, 'end': 0.34, 'color':[150, 31, 33]}\n",
    "pc_4 = {'name':'Over', 'start':0.34, 'end': 1, 'color':[187, 185, 192]}\n",
    "df = pd.DataFrame([pc_1,pc_2,pc_3,pc_4])\n",
    "\n",
    "# svg icon from https://fontawesome.com/search?m=free&o=r and generate matrix\n",
    "svg = '<svg xmlns=\"http://www.w3.org/2000/svg\" viewBox=\"0 0 320 512\"><!--!Font Awesome Free 6.6.0 by @fontawesome - https://fontawesome.com License - https://fontawesome.com/license/free Copyright 2024 Fonticons, Inc.--><path d=\"M256.814,72.75c0-26.898-10.451-52.213-29.43-71.277C226.444,0.529,225.17,0,223.84,0H87.712c-1.329,0-2.604,0.529-3.543,1.473c-18.978,19.064-29.43,44.379-29.43,71.277c0,50.615,37.414,92.654,86.037,99.922v108.88h-21.25c-8.271,0-15,6.729-15,15c0,8.271,6.729,15,15,15h72.5c8.271,0,15-6.729,15-15c0-8.271-6.729-15-15-15h-21.25v-108.88C219.399,165.404,256.814,123.365,256.814,72.75z M106.709,120.879c-1.234,1.083-2.765,1.615-4.285,1.615c-1.807,0-3.604-0.748-4.888-2.212c-13.153-14.986-18.888-34.832-15.733-54.451c0.571-3.543,3.902-5.956,7.45-5.385c3.544,0.57,5.955,3.905,5.386,7.45c-2.538,15.779,2.079,31.747,12.667,43.811C109.674,114.404,109.406,118.511,106.709,120.879z M144.351,136.662c-0.514,3.194-3.274,5.468-6.409,5.468c-0.343,0-0.69-0.027-1.041-0.083c-6.937-1.117-13.6-3.299-19.804-6.488c-3.193-1.641-4.451-5.559-2.811-8.752c1.641-3.194,5.563-4.451,8.752-2.81c4.985,2.562,10.345,4.317,15.929,5.215C142.511,129.782,144.922,133.118,144.351,136.662z\"/></svg>'\n",
    "#svg = '<svg xmlns=\"http://www.w3.org/2000/svg\" viewBox=\"0 0 512 512\"><!--!Font Awesome Free 6.7.1 by @fontawesome - https://fontawesome.com License - https://fontawesome.com/license/free Copyright 2024 Fonticons, Inc.--><path d=\"M393.4 9.4c12.5-12.5 32.8-12.5 45.3 0l64 64c12.5 12.5 12.5 32.8 0 45.3c-11.8 11.8-30.7 12.5-43.2 1.9l-9.5 9.5-48.8 48.8c-9.2 9.2-11.5 22.9-8.6 35.6c9.4 40.9-1.9 85.6-33.8 117.5L197.3 493.3c-25 25-65.5 25-90.5 0l-88-88c-25-25-25-65.5 0-90.5L180.2 153.3c31.9-31.9 76.6-43.1 117.5-33.8c12.6 2.9 26.4 .5 35.5-8.6l48.8-48.8 9.5-9.5c-10.6-12.6-10-31.4 1.9-43.2zM99.3 347.3l65.4 65.4c6.2 6.2 16.4 6.2 22.6 0l97.4-97.4c6.2-6.2 6.2-16.4 0-22.6l-65.4-65.4c-6.2-6.2-16.4-6.2-22.6 0L99.3 324.7c-6.2 6.2-6.2 16.4 0 22.6z\"/></svg>'\n",
    "#svg = '<svg xmlns=\"http://www.w3.org/2000/svg\" viewBox=\"0 0 320 512\"><!--!Font Awesome Free 6.7.1 by @fontawesome - https://fontawesome.com License - https://fontawesome.com/license/free Copyright 2024 Fonticons, Inc.--><path d=\"M32.1 29.3C33.5 12.8 47.4 0 64 0L256 0c16.6 0 30.5 12.8 31.9 29.3l14 168.4c6 72-42.5 135.2-109.9 150.6l0 99.6 48 0c17.7 0 32 14.3 32 32s-14.3 32-32 32l-80 0-80 0c-17.7 0-32-14.3-32-32s14.3-32 32-32l48 0 0-99.6C60.6 333 12.1 269.8 18.1 197.8l14-168.4zm56 98.7l143.8 0-5.3-64L93.4 64l-5.3 64z\"/></svg>'\n",
    "im = PIL.Image.open(io.BytesIO(cairosvg.svg2png(bytestring=svg))).convert(\"RGBA\")\n",
    "matrix = np.array(im)\n",
    "\n",
    "for index, row in df.iterrows():\n",
    "  matrix = genCategoryColor(matrix,row['start'],row['end'],list(row['color']))\n",
    "\n",
    "fig = px.imshow(\n",
    "    matrix,\n",
    "    y= range(matrix.shape[0]-50),\n",
    "    x= range(matrix.shape[1]),\n",
    "    height=500,\n",
    "    width=400,\n",
    "    template='none',\n",
    "    labels=dict(x=\"X\", \n",
    "                y=\"Y\", \n",
    "                color=\"Color\")\n",
    "    )\n",
    "\n",
    "\n",
    "for index, row in df.iterrows():\n",
    "    if row['name'] != 'Over':\n",
    "        addAnnotation(fig,matrix.shape,row['start'],row['end'],str(round((row['end']-row['start'])*100,2))+'% '+row['name'])\n",
    "\n",
    "fig.update_xaxes(title = 'Time', showticklabels=False, visible = False)\n",
    "fig.update_yaxes(visible=False, type='linear', showticklabels=False)\n",
    "fig.update_layout(coloraxis_showscale=False,margin=dict(l=20,r=20,b=20,t=20))\n",
    "fig.update_layout(coloraxis_colorbar_x=0.8)\n",
    "fig.update_layout(\n",
    "        title_text=\"ITALY \",\n",
    "        title_x=0.5,\n",
    "        title_y=0.95,\n",
    "    )\n",
    "fig.show()"
   ]
  },
  {
   "cell_type": "code",
   "execution_count": null,
   "metadata": {},
   "outputs": [],
   "source": []
  }
 ],
 "metadata": {
  "kernelspec": {
   "display_name": ".venv",
   "language": "python",
   "name": "python3"
  },
  "language_info": {
   "codemirror_mode": {
    "name": "ipython",
    "version": 3
   },
   "file_extension": ".py",
   "mimetype": "text/x-python",
   "name": "python",
   "nbconvert_exporter": "python",
   "pygments_lexer": "ipython3",
   "version": "3.10.12"
  }
 },
 "nbformat": 4,
 "nbformat_minor": 2
}
