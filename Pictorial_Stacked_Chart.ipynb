{
 "cells": [
  {
   "cell_type": "markdown",
   "metadata": {},
   "source": [
    "# Pictorial Stacked Chart plot\n",
    "### Chart plotly test"
   ]
  },
  {
   "cell_type": "code",
   "execution_count": 1,
   "metadata": {},
   "outputs": [],
   "source": [
    "#pip install pandas -q\n",
    "#pip install plotly -q\n",
    "#pip install Pillow -q\n",
    "#pip install cairosvg -q"
   ]
  },
  {
   "cell_type": "code",
   "execution_count": 1,
   "metadata": {},
   "outputs": [
    {
     "data": {
      "application/vnd.plotly.v1+json": {
       "config": {
        "plotlyServerURL": "https://plot.ly"
       },
       "data": [
        {
         "dx": 1,
         "dy": 1,
         "hovertemplate": "X: %{x}<br>Y: %{y}<br>Color: %{z}<extra></extra>",
         "name": "0",
         "source": "data:image/png;base64,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",
         "type": "image",
         "x0": 0,
         "xaxis": "x",
         "y0": 0,
         "yaxis": "y"
        }
       ],
       "layout": {
        "annotations": [
         {
          "arrowsize": 0.5,
          "ax": -50,
          "ay": 0,
          "showarrow": true,
          "text": "34.0% Python",
          "x": 0,
          "xanchor": "right",
          "y": 87.04
         },
         {
          "arrowsize": 0.5,
          "ax": -50,
          "ay": 0,
          "showarrow": true,
          "text": "23.0% Javascript",
          "x": 0,
          "xanchor": "right",
          "y": 232.95999999999998
         },
         {
          "arrowsize": 0.5,
          "ax": -50,
          "ay": 0,
          "showarrow": true,
          "text": "10.0% Java",
          "x": 0,
          "xanchor": "right",
          "y": 317.44
         },
         {
          "arrowsize": 0.5,
          "ax": -50,
          "ay": 0,
          "showarrow": true,
          "text": "33.0% Otros",
          "x": 0,
          "xanchor": "right",
          "y": 427.52
         }
        ],
        "coloraxis": {
         "colorbar": {
          "x": 0.8
         },
         "showscale": false
        },
        "height": 200,
        "margin": {
         "b": 20,
         "l": 20,
         "r": 20,
         "t": 20
        },
        "template": {
         "data": {
          "scatter": [
           {
            "type": "scatter"
           }
          ]
         }
        },
        "width": 400,
        "xaxis": {
         "anchor": "y",
         "domain": [
          0,
          1
         ],
         "showticklabels": false,
         "title": {
          "text": "Time"
         },
         "visible": false
        },
        "yaxis": {
         "anchor": "x",
         "domain": [
          0,
          1
         ],
         "showticklabels": false,
         "title": {
          "text": "Y"
         },
         "type": "linear",
         "visible": false
        }
       }
      }
     },
     "metadata": {},
     "output_type": "display_data"
    }
   ],
   "source": [
    "import plotly.express as px\n",
    "import PIL\n",
    "import cairosvg\n",
    "import plotly.express as px\n",
    "import io\n",
    "import numpy as np\n",
    "import pandas as pd\n",
    "\n",
    "#Function generate color scale in array svg\n",
    "def genCategoryColor(matrix,start = 0, end = 1, color_rgb=[255,0,0]):\n",
    "    for x in range(int(round(matrix.shape[0]*start,0)), int(round(matrix.shape[0]*end,0))):\n",
    "        if (np.any(matrix[x,:,:])):  \n",
    "            for y in range(matrix.shape[1]): \n",
    "                if (np.any(matrix[x][y])):\n",
    "                    if x>=matrix.shape[0]*start and x < matrix.shape[0]*end:\n",
    "                        matrix[x][y] = [color_rgb[0],color_rgb[1],color_rgb[2],list(matrix[x][y])[-1]]\n",
    "                        # x_l.append(x)\n",
    "                        # y_l.append(y)\n",
    "                        # color_l.append()\n",
    "    return matrix\n",
    "\n",
    "#Function generate annotation in chart\n",
    "def addAnnotation(fig,shape, start= 0, end = 1, text='Annotation'):\n",
    "     fig.add_annotation(\n",
    "        x=0,\n",
    "        y=shape[0]*((start+end)/2),\n",
    "        text=text,\n",
    "        showarrow=True,\n",
    "        xanchor=\"right\",\n",
    "        ax=-50,\n",
    "        ay=0,\n",
    "        arrowsize=0.5,\n",
    "    )\n",
    "\n",
    "\n",
    "#data example:\n",
    "pc_1 = {'name':'Python', 'start':0, 'end': 0.34, 'color':[0, 150, 68]}\n",
    "pc_2 = {'name':'Javascript', 'start':0.34, 'end': 0.57, 'color':[218, 175, 0]}\n",
    "pc_3 = {'name':'Java', 'start':0.57, 'end': 0.67, 'color':[0, 159, 218 ]}\n",
    "pc_4 = {'name':'Otros', 'start':0.67, 'end': 1, 'color':[122, 122, 122]}\n",
    "df = pd.DataFrame([pc_1,pc_2,pc_3,pc_4])\n",
    "\n",
    "# svg icon from https://fontawesome.com/search?m=free&o=r and generate matrix\n",
    "svg = '<svg xmlns=\"http://www.w3.org/2000/svg\" viewBox=\"0 0 320 512\"><!--!Font Awesome Free 6.6.0 by @fontawesome - https://fontawesome.com License - https://fontawesome.com/license/free Copyright 2024 Fonticons, Inc.--><path d=\"M112 48a48 48 0 1 1 96 0 48 48 0 1 1 -96 0zm40 304l0 128c0 17.7-14.3 32-32 32s-32-14.3-32-32l0-223.1L59.4 304.5c-9.1 15.1-28.8 20-43.9 10.9s-20-28.8-10.9-43.9l58.3-97c17.4-28.9 48.6-46.6 82.3-46.6l29.7 0c33.7 0 64.9 17.7 82.3 46.6l58.3 97c9.1 15.1 4.2 34.8-10.9 43.9s-34.8 4.2-43.9-10.9L232 256.9 232 480c0 17.7-14.3 32-32 32s-32-14.3-32-32l0-128-16 0z\"/></svg>'\n",
    "im = PIL.Image.open(io.BytesIO(cairosvg.svg2png(bytestring=svg))).convert(\"RGBA\")\n",
    "matrix = np.array(im)\n",
    "\n",
    "for index, row in df.iterrows():\n",
    "  matrix = genCategoryColor(matrix,row['start'],row['end'],list(row['color']))\n",
    "\n",
    "fig = px.imshow(\n",
    "    matrix,\n",
    "    y= range(matrix.shape[0]),\n",
    "    x= range(matrix.shape[1]),\n",
    "    height=200,\n",
    "    width=400,\n",
    "    template='none',\n",
    "    labels=dict(x=\"X\", \n",
    "                y=\"Y\", \n",
    "                color=\"Color\")\n",
    "    )\n",
    "\n",
    "\n",
    "for index, row in df.iterrows():\n",
    "    addAnnotation(fig,matrix.shape,row['start'],row['end'],str(round((row['end']-row['start'])*100,2))+'% '+row['name'])\n",
    "\n",
    "fig.update_xaxes(title = 'Time', showticklabels=False, visible = False)\n",
    "fig.update_yaxes(visible=False, type='linear', showticklabels=False)\n",
    "fig.update_layout(coloraxis_showscale=False,margin=dict(l=20,r=20,b=20,t=20))\n",
    "fig.update_layout(coloraxis_colorbar_x=0.8)\n",
    "fig.show()"
   ]
  },
  {
   "cell_type": "code",
   "execution_count": null,
   "metadata": {},
   "outputs": [],
   "source": []
  },
  {
   "cell_type": "code",
   "execution_count": null,
   "metadata": {},
   "outputs": [],
   "source": []
  }
 ],
 "metadata": {
  "kernelspec": {
   "display_name": ".venv",
   "language": "python",
   "name": "python3"
  },
  "language_info": {
   "codemirror_mode": {
    "name": "ipython",
    "version": 3
   },
   "file_extension": ".py",
   "mimetype": "text/x-python",
   "name": "python",
   "nbconvert_exporter": "python",
   "pygments_lexer": "ipython3",
   "version": "3.10.12"
  }
 },
 "nbformat": 4,
 "nbformat_minor": 2
}
