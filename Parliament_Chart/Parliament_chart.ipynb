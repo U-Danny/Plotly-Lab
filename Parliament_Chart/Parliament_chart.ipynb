{
 "cells": [
  {
   "cell_type": "markdown",
   "metadata": {},
   "source": [
    "### 🏛️ Parliament Chart – Visualizing Seats in a Legislative Assembly\n",
    "\n",
    "A **Parliament Chart** displays the distribution of seats among parties or groups in a semi-circular layout, resembling a legislative chamber.  \n",
    "It’s commonly used to visualize **election results**, **coalition dynamics**, or **party representation** in parliaments or councils.\n"
   ]
  },
  {
   "cell_type": "code",
   "execution_count": 10,
   "metadata": {},
   "outputs": [
    {
     "data": {
      "application/vnd.plotly.v1+json": {
       "config": {
        "plotlyServerURL": "https://plot.ly"
       },
       "data": [
        {
         "customdata": [
          [
           "A"
          ],
          [
           "M"
          ],
          [
           "C"
          ],
          [
           "C"
          ],
          [
           "B"
          ],
          [
           "E"
          ],
          [
           "K"
          ],
          [
           "M"
          ],
          [
           "L"
          ],
          [
           "M"
          ],
          [
           "A"
          ],
          [
           "F"
          ],
          [
           "L"
          ],
          [
           "B"
          ],
          [
           "J"
          ],
          [
           "O"
          ],
          [
           "J"
          ],
          [
           "I"
          ],
          [
           "R"
          ],
          [
           "G"
          ],
          [
           "H"
          ],
          [
           "Q"
          ],
          [
           "K"
          ],
          [
           "K"
          ],
          [
           "P"
          ]
         ],
         "hovertemplate": "<b>%{customdata[0]}</b><extra></extra>",
         "legendgroup": "PARTIDO-1",
         "marker": {
          "color": "#cb4325",
          "opacity": 0.7,
          "size": 20,
          "symbol": "circle"
         },
         "mode": "markers+text",
         "name": "PARTIDO-1",
         "r": [
          11,
          10,
          9,
          8,
          7,
          6,
          11,
          10,
          9,
          8,
          7,
          11,
          10,
          6,
          9,
          8,
          11,
          10,
          7,
          9,
          11,
          6,
          8,
          10,
          11
         ],
         "showlegend": true,
         "subplot": "polar",
         "text": [
          "A",
          "M",
          "C",
          "C",
          "B",
          "E",
          "K",
          "M",
          "L",
          "M",
          "A",
          "F",
          "L",
          "B",
          "J",
          "O",
          "J",
          "I",
          "R",
          "G",
          "H",
          "Q",
          "K",
          "K",
          "P"
         ],
         "textfont": {
          "size": 12
         },
         "textposition": "middle center",
         "theta": [
          2.4489795918367347,
          2.727272727272727,
          3,
          3.4285714285714284,
          3.870967741935484,
          4.615384615384615,
          7.346938775510204,
          8.181818181818182,
          9,
          10.285714285714285,
          11.612903225806452,
          12.244897959183675,
          13.636363636363637,
          13.846153846153845,
          15,
          17.142857142857142,
          17.142857142857146,
          19.09090909090909,
          19.35483870967742,
          21,
          22.040816326530617,
          23.076923076923073,
          24,
          24.545454545454543,
          26.93877551020409
         ],
         "type": "scatterpolar"
        },
        {
         "customdata": [
          [
           "I"
          ],
          [
           "M"
          ],
          [
           "C"
          ],
          [
           "R"
          ],
          [
           "Q"
          ],
          [
           "A"
          ],
          [
           "P"
          ],
          [
           "O"
          ],
          [
           "B"
          ],
          [
           "J"
          ],
          [
           "H"
          ],
          [
           "G"
          ],
          [
           "K"
          ],
          [
           "L"
          ],
          [
           "M"
          ],
          [
           "F"
          ],
          [
           "L"
          ],
          [
           "M"
          ],
          [
           "B"
          ],
          [
           "J"
          ],
          [
           "E"
          ],
          [
           "E"
          ],
          [
           "C"
          ],
          [
           "K"
          ],
          [
           "L"
          ]
         ],
         "hovertemplate": "<b>%{customdata[0]}</b><extra></extra>",
         "legendgroup": "PARTIDO-2",
         "marker": {
          "color": "#ff9402",
          "opacity": 0.7,
          "size": 20,
          "symbol": "circle"
         },
         "mode": "markers+text",
         "name": "PARTIDO-2",
         "r": [
          9,
          7,
          10,
          8,
          11,
          6,
          9,
          7,
          10,
          11,
          8,
          9,
          10,
          6,
          11,
          7,
          8,
          9,
          10,
          11,
          7,
          6,
          9,
          8,
          11
         ],
         "showlegend": true,
         "subplot": "polar",
         "text": [
          "I",
          "M",
          "C",
          "R",
          "Q",
          "A",
          "P",
          "O",
          "B",
          "J",
          "H",
          "G",
          "K",
          "L",
          "M",
          "F",
          "L",
          "M",
          "B",
          "J",
          "E",
          "E",
          "C",
          "K",
          "L"
         ],
         "textfont": {
          "size": 12
         },
         "textposition": "middle center",
         "theta": [
          27,
          27.096774193548388,
          29.999999999999996,
          30.857142857142858,
          31.83673469387756,
          32.30769230769231,
          33,
          34.83870967741936,
          35.45454545454545,
          36.73469387755103,
          37.714285714285715,
          39,
          40.90909090909091,
          41.53846153846153,
          41.6326530612245,
          42.58064516129033,
          44.57142857142857,
          45,
          46.36363636363636,
          46.53061224489797,
          50.322580645161295,
          50.76923076923076,
          51,
          51.42857142857142,
          51.428571428571445
         ],
         "type": "scatterpolar"
        },
        {
         "customdata": [
          [
           "P"
          ],
          [
           "M"
          ],
          [
           "Q"
          ],
          [
           "C"
          ],
          [
           "K"
          ],
          [
           "B"
          ],
          [
           "I"
          ],
          [
           "M"
          ],
          [
           "K"
          ],
          [
           "L"
          ],
          [
           "E"
          ],
          [
           "M"
          ],
          [
           "H"
          ],
          [
           "R"
          ],
          [
           "G"
          ],
          [
           "J"
          ],
          [
           "F"
          ],
          [
           "E"
          ],
          [
           "A"
          ],
          [
           "L"
          ],
          [
           "C"
          ],
          [
           "O"
          ],
          [
           "F"
          ],
          [
           "M"
          ],
          [
           "M"
          ]
         ],
         "hovertemplate": "<b>%{customdata[0]}</b><extra></extra>",
         "legendgroup": "PARTIDO-3",
         "marker": {
          "color": "#ffdc02",
          "opacity": 0.7,
          "size": 20,
          "symbol": "circle"
         },
         "mode": "markers+text",
         "name": "PARTIDO-3",
         "r": [
          10,
          11,
          9,
          10,
          7,
          8,
          6,
          11,
          10,
          9,
          8,
          7,
          11,
          10,
          9,
          6,
          11,
          8,
          7,
          10,
          9,
          11,
          6,
          8,
          10
         ],
         "showlegend": true,
         "subplot": "polar",
         "text": [
          "P",
          "M",
          "Q",
          "C",
          "K",
          "B",
          "I",
          "M",
          "K",
          "L",
          "E",
          "M",
          "H",
          "R",
          "G",
          "J",
          "F",
          "E",
          "A",
          "L",
          "C",
          "O",
          "F",
          "M",
          "M"
         ],
         "textfont": {
          "size": 12
         },
         "textposition": "middle center",
         "theta": [
          51.81818181818181,
          56.326530612244916,
          57,
          57.272727272727266,
          58.06451612903226,
          58.28571428571428,
          59.999999999999986,
          61.22448979591839,
          62.72727272727272,
          63,
          65.14285714285714,
          65.80645161290323,
          66.12244897959185,
          68.18181818181817,
          69,
          69.23076923076921,
          71.02040816326532,
          72,
          73.5483870967742,
          73.63636363636363,
          75,
          75.91836734693878,
          78.46153846153844,
          78.85714285714286,
          79.09090909090908
         ],
         "type": "scatterpolar"
        },
        {
         "customdata": [
          [
           "M"
          ],
          [
           "O"
          ],
          [
           "J"
          ],
          [
           "L"
          ],
          [
           "J"
          ],
          [
           "A"
          ],
          [
           "B"
          ],
          [
           "E"
          ],
          [
           "M"
          ],
          [
           "C"
          ],
          [
           "K"
          ],
          [
           "R"
          ],
          [
           "G"
          ],
          [
           "P"
          ],
          [
           "F"
          ],
          [
           "G"
          ],
          [
           "H"
          ],
          [
           "M"
          ],
          [
           "Q"
          ],
          [
           "E"
          ],
          [
           "O"
          ],
          [
           "L"
          ],
          [
           "F"
          ],
          [
           "I"
          ],
          [
           "M"
          ]
         ],
         "hovertemplate": "<b>%{customdata[0]}</b><extra></extra>",
         "legendgroup": "PARTIDO-4",
         "marker": {
          "color": "#d1ff02",
          "opacity": 0.7,
          "size": 20,
          "symbol": "circle"
         },
         "mode": "markers+text",
         "name": "PARTIDO-4",
         "r": [
          11,
          9,
          7,
          10,
          11,
          8,
          9,
          6,
          7,
          10,
          11,
          8,
          9,
          10,
          11,
          7,
          6,
          9,
          8,
          11,
          10,
          7,
          9,
          11,
          6
         ],
         "showlegend": true,
         "subplot": "polar",
         "text": [
          "M",
          "O",
          "J",
          "L",
          "J",
          "A",
          "B",
          "E",
          "M",
          "C",
          "K",
          "R",
          "G",
          "P",
          "F",
          "G",
          "H",
          "M",
          "Q",
          "E",
          "O",
          "L",
          "F",
          "I",
          "M"
         ],
         "textfont": {
          "size": 12
         },
         "textposition": "middle center",
         "theta": [
          80.81632653061224,
          81,
          81.29032258064518,
          84.54545454545453,
          85.71428571428571,
          85.71428571428572,
          87,
          87.69230769230766,
          89.03225806451616,
          89.99999999999999,
          90.61224489795917,
          92.57142857142858,
          93,
          95.45454545454544,
          95.51020408163264,
          96.77419354838713,
          96.92307692307689,
          99,
          99.42857142857144,
          100.4081632653061,
          100.90909090909089,
          104.5161290322581,
          105,
          105.30612244897956,
          106.15384615384612
         ],
         "type": "scatterpolar"
        },
        {
         "customdata": [
          [
           "F"
          ],
          [
           "E"
          ],
          [
           "M"
          ],
          [
           "O"
          ],
          [
           "H"
          ],
          [
           "C"
          ],
          [
           "J"
          ],
          [
           "K"
          ],
          [
           "G"
          ],
          [
           "P"
          ],
          [
           "M"
          ],
          [
           "M"
          ],
          [
           "L"
          ],
          [
           "P"
          ],
          [
           "G"
          ],
          [
           "K"
          ],
          [
           "H"
          ],
          [
           "J"
          ],
          [
           "A"
          ],
          [
           "Q"
          ],
          [
           "B"
          ],
          [
           "O"
          ],
          [
           "R"
          ],
          [
           "F"
          ],
          [
           "I"
          ]
         ],
         "hovertemplate": "<b>%{customdata[0]}</b><extra></extra>",
         "legendgroup": "PARTIDO-5",
         "marker": {
          "color": "#30ff02",
          "opacity": 0.7,
          "size": 20,
          "symbol": "circle"
         },
         "mode": "markers+text",
         "name": "PARTIDO-5",
         "r": [
          8,
          10,
          11,
          9,
          10,
          7,
          8,
          11,
          6,
          9,
          10,
          11,
          8,
          7,
          10,
          9,
          6,
          11,
          8,
          7,
          10,
          9,
          11,
          10,
          8
         ],
         "showlegend": true,
         "subplot": "polar",
         "text": [
          "F",
          "E",
          "M",
          "O",
          "H",
          "C",
          "J",
          "K",
          "G",
          "P",
          "M",
          "M",
          "L",
          "P",
          "G",
          "K",
          "H",
          "J",
          "A",
          "Q",
          "B",
          "O",
          "R",
          "F",
          "I"
         ],
         "textfont": {
          "size": 12
         },
         "textposition": "middle center",
         "theta": [
          106.2857142857143,
          106.36363636363635,
          110.20408163265303,
          111,
          111.8181818181818,
          112.25806451612908,
          113.14285714285717,
          115.1020408163265,
          115.38461538461534,
          117,
          117.27272727272725,
          119.99999999999996,
          120.00000000000003,
          120.00000000000006,
          122.7272727272727,
          123,
          124.61538461538457,
          124.89795918367342,
          126.85714285714289,
          127.74193548387103,
          128.18181818181816,
          129,
          129.7959183673469,
          133.63636363636363,
          133.71428571428575
         ],
         "type": "scatterpolar"
        },
        {
         "customdata": [
          [
           "A"
          ],
          [
           "H"
          ],
          [
           "O"
          ],
          [
           "G"
          ],
          [
           "K"
          ],
          [
           "I"
          ],
          [
           "P"
          ],
          [
           "Q"
          ],
          [
           "Q"
          ],
          [
           "F"
          ],
          [
           "R"
          ],
          [
           "B"
          ],
          [
           "M"
          ],
          [
           "I"
          ],
          [
           "L"
          ],
          [
           "H"
          ],
          [
           "G"
          ],
          [
           "M"
          ],
          [
           "L"
          ],
          [
           "J"
          ],
          [
           "P"
          ],
          [
           "J"
          ],
          [
           "C"
          ],
          [
           "K"
          ],
          [
           "E"
          ]
         ],
         "hovertemplate": "<b>%{customdata[0]}</b><extra></extra>",
         "legendgroup": "PARTIDO-6",
         "marker": {
          "color": "#02ffe8",
          "opacity": 0.7,
          "size": 20,
          "symbol": "circle"
         },
         "mode": "markers+text",
         "name": "PARTIDO-6",
         "r": [
          6,
          11,
          9,
          7,
          10,
          11,
          8,
          9,
          6,
          7,
          11,
          10,
          9,
          8,
          11,
          10,
          7,
          6,
          9,
          11,
          8,
          10,
          7,
          9,
          11
         ],
         "showlegend": true,
         "subplot": "polar",
         "text": [
          "A",
          "H",
          "O",
          "G",
          "K",
          "I",
          "P",
          "Q",
          "Q",
          "F",
          "R",
          "B",
          "M",
          "I",
          "L",
          "H",
          "G",
          "M",
          "L",
          "J",
          "P",
          "J",
          "C",
          "K",
          "E"
         ],
         "textfont": {
          "size": 12
         },
         "textposition": "middle center",
         "theta": [
          133.8461538461538,
          134.69387755102036,
          135,
          135.483870967742,
          139.0909090909091,
          139.59183673469383,
          140.5714285714286,
          141,
          143.07692307692304,
          143.22580645161298,
          144.4897959183673,
          144.54545454545456,
          147,
          147.42857142857147,
          149.38775510204076,
          150.00000000000003,
          150.96774193548396,
          152.30769230769226,
          153,
          154.28571428571422,
          154.28571428571433,
          155.4545454545455,
          158.70967741935493,
          159,
          159.18367346938768
         ],
         "type": "scatterpolar"
        },
        {
         "customdata": [
          [
           "M"
          ],
          [
           "H"
          ],
          [
           "L"
          ],
          [
           "A"
          ],
          [
           "J"
          ],
          [
           "Q"
          ],
          [
           "K"
          ],
          [
           "R"
          ],
          [
           "R"
          ],
          [
           "I"
          ],
          [
           "J"
          ],
          [
           "I"
          ],
          [
           "K"
          ],
          [
           "Q"
          ],
          [
           "M"
          ],
          [
           "P"
          ],
          [
           "H"
          ],
          [
           "O"
          ],
          [
           "C"
          ],
          [
           "G"
          ],
          [
           "B"
          ],
          [
           "L"
          ],
          [
           "M"
          ],
          [
           "E"
          ],
          [
           "F"
          ]
         ],
         "hovertemplate": "<b>%{customdata[0]}</b><extra></extra>",
         "legendgroup": "PARTIDO-7",
         "marker": {
          "color": "#0252ff",
          "opacity": 0.7,
          "size": 20,
          "symbol": "circle"
         },
         "mode": "markers+text",
         "name": "PARTIDO-7",
         "r": [
          10,
          8,
          6,
          11,
          9,
          10,
          7,
          8,
          11,
          6,
          9,
          10,
          11,
          7,
          8,
          9,
          10,
          11,
          6,
          8,
          7,
          10,
          9,
          11,
          10
         ],
         "showlegend": true,
         "subplot": "polar",
         "text": [
          "M",
          "H",
          "L",
          "A",
          "J",
          "Q",
          "K",
          "R",
          "R",
          "I",
          "J",
          "I",
          "K",
          "Q",
          "M",
          "P",
          "H",
          "O",
          "C",
          "G",
          "B",
          "L",
          "M",
          "E",
          "F"
         ],
         "textfont": {
          "size": 12
         },
         "textposition": "middle center",
         "theta": [
          160.90909090909096,
          161.1428571428572,
          161.5384615384615,
          164.08163265306115,
          165,
          166.36363636363643,
          166.4516129032259,
          168.00000000000006,
          168.9795918367346,
          170.76923076923072,
          171,
          171.8181818181819,
          173.87755102040808,
          174.19354838709688,
          174.85714285714292,
          177,
          177.27272727272737,
          178.77551020408154,
          179.99999999999994,
          181.71428571428578,
          181.93548387096786,
          182.72727272727283,
          183,
          183.673469387755,
          188.1818181818183
         ],
         "type": "scatterpolar"
        },
        {
         "customdata": [
          [
           "E"
          ],
          [
           "M"
          ],
          [
           "A"
          ],
          [
           "H"
          ],
          [
           "L"
          ],
          [
           "G"
          ],
          [
           "K"
          ],
          [
           "P"
          ],
          [
           "A"
          ],
          [
           "L"
          ],
          [
           "K"
          ],
          [
           "R"
          ],
          [
           "I"
          ],
          [
           "J"
          ],
          [
           "Q"
          ],
          [
           "F"
          ],
          [
           "C"
          ],
          [
           "B"
          ],
          [
           "M"
          ],
          [
           "O"
          ],
          [
           "R"
          ],
          [
           "J"
          ],
          [
           "I"
          ],
          [
           "M"
          ],
          [
           "J"
          ]
         ],
         "hovertemplate": "<b>%{customdata[0]}</b><extra></extra>",
         "legendgroup": "PARTIDO-8",
         "marker": {
          "color": "#ba02ff",
          "opacity": 0.7,
          "size": 20,
          "symbol": "circle"
         },
         "mode": "markers+text",
         "name": "PARTIDO-8",
         "r": [
          11,
          8,
          9,
          6,
          7,
          11,
          10,
          9,
          8,
          7,
          11,
          6,
          10,
          9,
          8,
          11,
          10,
          7,
          9,
          6,
          11,
          8,
          10,
          7,
          9
         ],
         "showlegend": true,
         "subplot": "polar",
         "text": [
          "E",
          "M",
          "A",
          "H",
          "L",
          "G",
          "K",
          "P",
          "A",
          "L",
          "K",
          "R",
          "I",
          "J",
          "Q",
          "F",
          "C",
          "B",
          "M",
          "O",
          "R",
          "J",
          "I",
          "M",
          "J"
         ],
         "textfont": {
          "size": 12
         },
         "textposition": "middle center",
         "theta": [
          188.57142857142847,
          188.57142857142864,
          189,
          189.23076923076917,
          189.67741935483883,
          193.46938775510193,
          193.63636363636377,
          195,
          195.4285714285715,
          197.4193548387098,
          198.3673469387754,
          198.4615384615384,
          199.09090909090924,
          201,
          202.28571428571436,
          203.26530612244886,
          204.5454545454547,
          205.16129032258078,
          207,
          207.69230769230762,
          208.16326530612233,
          209.14285714285722,
          210.00000000000017,
          212.90322580645176,
          213
         ],
         "type": "scatterpolar"
        },
        {
         "customdata": [
          [
           "J"
          ],
          [
           "H"
          ],
          [
           "J"
          ],
          [
           "G"
          ],
          [
           "P"
          ],
          [
           "O"
          ],
          [
           "A"
          ],
          [
           "M"
          ],
          [
           "Q"
          ],
          [
           "J"
          ],
          [
           "A"
          ],
          [
           "C"
          ],
          [
           "E"
          ],
          [
           "R"
          ],
          [
           "K"
          ],
          [
           "M"
          ],
          [
           "L"
          ],
          [
           "I"
          ],
          [
           "B"
          ],
          [
           "B"
          ],
          [
           "F"
          ],
          [
           "L"
          ],
          [
           "K"
          ],
          [
           "M"
          ],
          [
           "K"
          ]
         ],
         "hovertemplate": "<b>%{customdata[0]}</b><extra></extra>",
         "legendgroup": "PARTIDO-9",
         "marker": {
          "color": "#a0447a",
          "opacity": 0.7,
          "size": 20,
          "symbol": "circle"
         },
         "mode": "markers+text",
         "name": "PARTIDO-9",
         "r": [
          11,
          10,
          8,
          6,
          11,
          9,
          7,
          10,
          11,
          8,
          9,
          6,
          10,
          11,
          7,
          8,
          9,
          10,
          11,
          6,
          7,
          8,
          9,
          10,
          11
         ],
         "showlegend": true,
         "subplot": "polar",
         "text": [
          "J",
          "H",
          "J",
          "G",
          "P",
          "O",
          "A",
          "M",
          "Q",
          "J",
          "A",
          "C",
          "E",
          "R",
          "K",
          "M",
          "L",
          "I",
          "B",
          "B",
          "F",
          "L",
          "K",
          "M",
          "K"
         ],
         "textfont": {
          "size": 12
         },
         "textposition": "middle center",
         "theta": [
          213.0612244897958,
          215.45454545454564,
          216.00000000000009,
          216.92307692307685,
          217.95918367346925,
          219,
          220.64516129032273,
          220.9090909090911,
          222.85714285714272,
          222.85714285714295,
          225,
          226.15384615384608,
          226.36363636363657,
          227.75510204081618,
          228.3870967741937,
          229.7142857142858,
          231,
          231.81818181818204,
          232.65306122448965,
          235.3846153846153,
          236.12903225806468,
          236.57142857142867,
          237,
          237.2727272727275,
          237.5510204081631
         ],
         "type": "scatterpolar"
        }
       ],
       "layout": {
        "annotations": [
         {
          "font": {
           "family": "Arial, monospace",
           "size": 40
          },
          "showarrow": false,
          "text": "225",
          "x": 0.5,
          "y": 0.2
         }
        ],
        "autosize": true,
        "font": {
         "family": "Arial, monospace",
         "size": 12
        },
        "height": 500,
        "legend": {
         "title": {
          "text": "PARTIDO"
         },
         "tracegroupgap": 0
        },
        "margin": {
         "b": 20,
         "l": 5,
         "r": 5,
         "t": 10
        },
        "polar": {
         "angularaxis": {
          "direction": "counterclockwise",
          "gridcolor": "rgba(0,0,0,0)",
          "linecolor": "rgba(0,0,0,0)",
          "rotation": -30,
          "showticklabels": false,
          "ticks": ""
         },
         "domain": {
          "x": [
           0,
           1
          ],
          "y": [
           0,
           1
          ]
         },
         "radialaxis": {
          "gridcolor": "rgba(0,0,0,0)",
          "linecolor": "rgba(255, 255, 255, 0)",
          "showticklabels": false,
          "ticks": ""
         },
         "sector": [
          -30,
          210
         ]
        },
        "showlegend": false,
        "template": {
         "data": {
          "bar": [
           {
            "error_x": {
             "color": "#f2f5fa"
            },
            "error_y": {
             "color": "#f2f5fa"
            },
            "marker": {
             "line": {
              "color": "rgb(17,17,17)",
              "width": 0.5
             },
             "pattern": {
              "fillmode": "overlay",
              "size": 10,
              "solidity": 0.2
             }
            },
            "type": "bar"
           }
          ],
          "barpolar": [
           {
            "marker": {
             "line": {
              "color": "rgb(17,17,17)",
              "width": 0.5
             },
             "pattern": {
              "fillmode": "overlay",
              "size": 10,
              "solidity": 0.2
             }
            },
            "type": "barpolar"
           }
          ],
          "carpet": [
           {
            "aaxis": {
             "endlinecolor": "#A2B1C6",
             "gridcolor": "#506784",
             "linecolor": "#506784",
             "minorgridcolor": "#506784",
             "startlinecolor": "#A2B1C6"
            },
            "baxis": {
             "endlinecolor": "#A2B1C6",
             "gridcolor": "#506784",
             "linecolor": "#506784",
             "minorgridcolor": "#506784",
             "startlinecolor": "#A2B1C6"
            },
            "type": "carpet"
           }
          ],
          "choropleth": [
           {
            "colorbar": {
             "outlinewidth": 0,
             "ticks": ""
            },
            "type": "choropleth"
           }
          ],
          "contour": [
           {
            "colorbar": {
             "outlinewidth": 0,
             "ticks": ""
            },
            "colorscale": [
             [
              0,
              "#0d0887"
             ],
             [
              0.1111111111111111,
              "#46039f"
             ],
             [
              0.2222222222222222,
              "#7201a8"
             ],
             [
              0.3333333333333333,
              "#9c179e"
             ],
             [
              0.4444444444444444,
              "#bd3786"
             ],
             [
              0.5555555555555556,
              "#d8576b"
             ],
             [
              0.6666666666666666,
              "#ed7953"
             ],
             [
              0.7777777777777778,
              "#fb9f3a"
             ],
             [
              0.8888888888888888,
              "#fdca26"
             ],
             [
              1,
              "#f0f921"
             ]
            ],
            "type": "contour"
           }
          ],
          "contourcarpet": [
           {
            "colorbar": {
             "outlinewidth": 0,
             "ticks": ""
            },
            "type": "contourcarpet"
           }
          ],
          "heatmap": [
           {
            "colorbar": {
             "outlinewidth": 0,
             "ticks": ""
            },
            "colorscale": [
             [
              0,
              "#0d0887"
             ],
             [
              0.1111111111111111,
              "#46039f"
             ],
             [
              0.2222222222222222,
              "#7201a8"
             ],
             [
              0.3333333333333333,
              "#9c179e"
             ],
             [
              0.4444444444444444,
              "#bd3786"
             ],
             [
              0.5555555555555556,
              "#d8576b"
             ],
             [
              0.6666666666666666,
              "#ed7953"
             ],
             [
              0.7777777777777778,
              "#fb9f3a"
             ],
             [
              0.8888888888888888,
              "#fdca26"
             ],
             [
              1,
              "#f0f921"
             ]
            ],
            "type": "heatmap"
           }
          ],
          "heatmapgl": [
           {
            "colorbar": {
             "outlinewidth": 0,
             "ticks": ""
            },
            "colorscale": [
             [
              0,
              "#0d0887"
             ],
             [
              0.1111111111111111,
              "#46039f"
             ],
             [
              0.2222222222222222,
              "#7201a8"
             ],
             [
              0.3333333333333333,
              "#9c179e"
             ],
             [
              0.4444444444444444,
              "#bd3786"
             ],
             [
              0.5555555555555556,
              "#d8576b"
             ],
             [
              0.6666666666666666,
              "#ed7953"
             ],
             [
              0.7777777777777778,
              "#fb9f3a"
             ],
             [
              0.8888888888888888,
              "#fdca26"
             ],
             [
              1,
              "#f0f921"
             ]
            ],
            "type": "heatmapgl"
           }
          ],
          "histogram": [
           {
            "marker": {
             "pattern": {
              "fillmode": "overlay",
              "size": 10,
              "solidity": 0.2
             }
            },
            "type": "histogram"
           }
          ],
          "histogram2d": [
           {
            "colorbar": {
             "outlinewidth": 0,
             "ticks": ""
            },
            "colorscale": [
             [
              0,
              "#0d0887"
             ],
             [
              0.1111111111111111,
              "#46039f"
             ],
             [
              0.2222222222222222,
              "#7201a8"
             ],
             [
              0.3333333333333333,
              "#9c179e"
             ],
             [
              0.4444444444444444,
              "#bd3786"
             ],
             [
              0.5555555555555556,
              "#d8576b"
             ],
             [
              0.6666666666666666,
              "#ed7953"
             ],
             [
              0.7777777777777778,
              "#fb9f3a"
             ],
             [
              0.8888888888888888,
              "#fdca26"
             ],
             [
              1,
              "#f0f921"
             ]
            ],
            "type": "histogram2d"
           }
          ],
          "histogram2dcontour": [
           {
            "colorbar": {
             "outlinewidth": 0,
             "ticks": ""
            },
            "colorscale": [
             [
              0,
              "#0d0887"
             ],
             [
              0.1111111111111111,
              "#46039f"
             ],
             [
              0.2222222222222222,
              "#7201a8"
             ],
             [
              0.3333333333333333,
              "#9c179e"
             ],
             [
              0.4444444444444444,
              "#bd3786"
             ],
             [
              0.5555555555555556,
              "#d8576b"
             ],
             [
              0.6666666666666666,
              "#ed7953"
             ],
             [
              0.7777777777777778,
              "#fb9f3a"
             ],
             [
              0.8888888888888888,
              "#fdca26"
             ],
             [
              1,
              "#f0f921"
             ]
            ],
            "type": "histogram2dcontour"
           }
          ],
          "mesh3d": [
           {
            "colorbar": {
             "outlinewidth": 0,
             "ticks": ""
            },
            "type": "mesh3d"
           }
          ],
          "parcoords": [
           {
            "line": {
             "colorbar": {
              "outlinewidth": 0,
              "ticks": ""
             }
            },
            "type": "parcoords"
           }
          ],
          "pie": [
           {
            "automargin": true,
            "type": "pie"
           }
          ],
          "scatter": [
           {
            "marker": {
             "line": {
              "color": "#283442"
             }
            },
            "type": "scatter"
           }
          ],
          "scatter3d": [
           {
            "line": {
             "colorbar": {
              "outlinewidth": 0,
              "ticks": ""
             }
            },
            "marker": {
             "colorbar": {
              "outlinewidth": 0,
              "ticks": ""
             }
            },
            "type": "scatter3d"
           }
          ],
          "scattercarpet": [
           {
            "marker": {
             "colorbar": {
              "outlinewidth": 0,
              "ticks": ""
             }
            },
            "type": "scattercarpet"
           }
          ],
          "scattergeo": [
           {
            "marker": {
             "colorbar": {
              "outlinewidth": 0,
              "ticks": ""
             }
            },
            "type": "scattergeo"
           }
          ],
          "scattergl": [
           {
            "marker": {
             "line": {
              "color": "#283442"
             }
            },
            "type": "scattergl"
           }
          ],
          "scattermapbox": [
           {
            "marker": {
             "colorbar": {
              "outlinewidth": 0,
              "ticks": ""
             }
            },
            "type": "scattermapbox"
           }
          ],
          "scatterpolar": [
           {
            "marker": {
             "colorbar": {
              "outlinewidth": 0,
              "ticks": ""
             }
            },
            "type": "scatterpolar"
           }
          ],
          "scatterpolargl": [
           {
            "marker": {
             "colorbar": {
              "outlinewidth": 0,
              "ticks": ""
             }
            },
            "type": "scatterpolargl"
           }
          ],
          "scatterternary": [
           {
            "marker": {
             "colorbar": {
              "outlinewidth": 0,
              "ticks": ""
             }
            },
            "type": "scatterternary"
           }
          ],
          "surface": [
           {
            "colorbar": {
             "outlinewidth": 0,
             "ticks": ""
            },
            "colorscale": [
             [
              0,
              "#0d0887"
             ],
             [
              0.1111111111111111,
              "#46039f"
             ],
             [
              0.2222222222222222,
              "#7201a8"
             ],
             [
              0.3333333333333333,
              "#9c179e"
             ],
             [
              0.4444444444444444,
              "#bd3786"
             ],
             [
              0.5555555555555556,
              "#d8576b"
             ],
             [
              0.6666666666666666,
              "#ed7953"
             ],
             [
              0.7777777777777778,
              "#fb9f3a"
             ],
             [
              0.8888888888888888,
              "#fdca26"
             ],
             [
              1,
              "#f0f921"
             ]
            ],
            "type": "surface"
           }
          ],
          "table": [
           {
            "cells": {
             "fill": {
              "color": "#506784"
             },
             "line": {
              "color": "rgb(17,17,17)"
             }
            },
            "header": {
             "fill": {
              "color": "#2a3f5f"
             },
             "line": {
              "color": "rgb(17,17,17)"
             }
            },
            "type": "table"
           }
          ]
         },
         "layout": {
          "annotationdefaults": {
           "arrowcolor": "#f2f5fa",
           "arrowhead": 0,
           "arrowwidth": 1
          },
          "autotypenumbers": "strict",
          "coloraxis": {
           "colorbar": {
            "outlinewidth": 0,
            "ticks": ""
           }
          },
          "colorscale": {
           "diverging": [
            [
             0,
             "#8e0152"
            ],
            [
             0.1,
             "#c51b7d"
            ],
            [
             0.2,
             "#de77ae"
            ],
            [
             0.3,
             "#f1b6da"
            ],
            [
             0.4,
             "#fde0ef"
            ],
            [
             0.5,
             "#f7f7f7"
            ],
            [
             0.6,
             "#e6f5d0"
            ],
            [
             0.7,
             "#b8e186"
            ],
            [
             0.8,
             "#7fbc41"
            ],
            [
             0.9,
             "#4d9221"
            ],
            [
             1,
             "#276419"
            ]
           ],
           "sequential": [
            [
             0,
             "#0d0887"
            ],
            [
             0.1111111111111111,
             "#46039f"
            ],
            [
             0.2222222222222222,
             "#7201a8"
            ],
            [
             0.3333333333333333,
             "#9c179e"
            ],
            [
             0.4444444444444444,
             "#bd3786"
            ],
            [
             0.5555555555555556,
             "#d8576b"
            ],
            [
             0.6666666666666666,
             "#ed7953"
            ],
            [
             0.7777777777777778,
             "#fb9f3a"
            ],
            [
             0.8888888888888888,
             "#fdca26"
            ],
            [
             1,
             "#f0f921"
            ]
           ],
           "sequentialminus": [
            [
             0,
             "#0d0887"
            ],
            [
             0.1111111111111111,
             "#46039f"
            ],
            [
             0.2222222222222222,
             "#7201a8"
            ],
            [
             0.3333333333333333,
             "#9c179e"
            ],
            [
             0.4444444444444444,
             "#bd3786"
            ],
            [
             0.5555555555555556,
             "#d8576b"
            ],
            [
             0.6666666666666666,
             "#ed7953"
            ],
            [
             0.7777777777777778,
             "#fb9f3a"
            ],
            [
             0.8888888888888888,
             "#fdca26"
            ],
            [
             1,
             "#f0f921"
            ]
           ]
          },
          "colorway": [
           "#636efa",
           "#EF553B",
           "#00cc96",
           "#ab63fa",
           "#FFA15A",
           "#19d3f3",
           "#FF6692",
           "#B6E880",
           "#FF97FF",
           "#FECB52"
          ],
          "font": {
           "color": "#f2f5fa"
          },
          "geo": {
           "bgcolor": "rgb(17,17,17)",
           "lakecolor": "rgb(17,17,17)",
           "landcolor": "rgb(17,17,17)",
           "showlakes": true,
           "showland": true,
           "subunitcolor": "#506784"
          },
          "hoverlabel": {
           "align": "left"
          },
          "hovermode": "closest",
          "mapbox": {
           "style": "dark"
          },
          "paper_bgcolor": "rgb(17,17,17)",
          "plot_bgcolor": "rgb(17,17,17)",
          "polar": {
           "angularaxis": {
            "gridcolor": "#506784",
            "linecolor": "#506784",
            "ticks": ""
           },
           "bgcolor": "rgb(17,17,17)",
           "radialaxis": {
            "gridcolor": "#506784",
            "linecolor": "#506784",
            "ticks": ""
           }
          },
          "scene": {
           "xaxis": {
            "backgroundcolor": "rgb(17,17,17)",
            "gridcolor": "#506784",
            "gridwidth": 2,
            "linecolor": "#506784",
            "showbackground": true,
            "ticks": "",
            "zerolinecolor": "#C8D4E3"
           },
           "yaxis": {
            "backgroundcolor": "rgb(17,17,17)",
            "gridcolor": "#506784",
            "gridwidth": 2,
            "linecolor": "#506784",
            "showbackground": true,
            "ticks": "",
            "zerolinecolor": "#C8D4E3"
           },
           "zaxis": {
            "backgroundcolor": "rgb(17,17,17)",
            "gridcolor": "#506784",
            "gridwidth": 2,
            "linecolor": "#506784",
            "showbackground": true,
            "ticks": "",
            "zerolinecolor": "#C8D4E3"
           }
          },
          "shapedefaults": {
           "line": {
            "color": "#f2f5fa"
           }
          },
          "sliderdefaults": {
           "bgcolor": "#C8D4E3",
           "bordercolor": "rgb(17,17,17)",
           "borderwidth": 1,
           "tickwidth": 0
          },
          "ternary": {
           "aaxis": {
            "gridcolor": "#506784",
            "linecolor": "#506784",
            "ticks": ""
           },
           "baxis": {
            "gridcolor": "#506784",
            "linecolor": "#506784",
            "ticks": ""
           },
           "bgcolor": "rgb(17,17,17)",
           "caxis": {
            "gridcolor": "#506784",
            "linecolor": "#506784",
            "ticks": ""
           }
          },
          "title": {
           "x": 0.05
          },
          "updatemenudefaults": {
           "bgcolor": "#506784",
           "borderwidth": 0
          },
          "xaxis": {
           "automargin": true,
           "gridcolor": "#283442",
           "linecolor": "#506784",
           "ticks": "",
           "title": {
            "standoff": 15
           },
           "zerolinecolor": "#283442",
           "zerolinewidth": 2
          },
          "yaxis": {
           "automargin": true,
           "gridcolor": "#283442",
           "linecolor": "#506784",
           "ticks": "",
           "title": {
            "standoff": 15
           },
           "zerolinecolor": "#283442",
           "zerolinewidth": 2
          }
         }
        },
        "uniformtext": {
         "minsize": 8,
         "mode": "hide"
        },
        "width": 600,
        "xaxis": {
         "showgrid": false
        },
        "yaxis": {
         "showgrid": false
        }
       }
      }
     },
     "metadata": {},
     "output_type": "display_data"
    }
   ],
   "source": [
    "import plotly.express as px\n",
    "import pandas as pd\n",
    "import math\n",
    "import plotly.express as px\n",
    "\n",
    "def Sort_Tuple(tup):\n",
    "    return sorted(tup, key=lambda x: x[1])\n",
    "\n",
    "def parlamentary_Coord(df,angle_total=180,rows=4, ratio=6,initial='NAME'):    \n",
    "    arco_total = 0\n",
    "    angles = []\n",
    "    for i in range(rows):\n",
    "        arco_total += math.pi * int(ratio+i)\n",
    "    for i in range(rows):\n",
    "        arco_radio = math.pi * int(ratio+i)\n",
    "        angles.append(angle_total/round(arco_radio/(arco_total/len(df)),0))\n",
    "    coord = []\n",
    "    for a in range(len(angles)):\n",
    "        current_angle = angles[a]/2\n",
    "        for i in range(int(round(angle_total/angles[a],0))):        \n",
    "            coord.append((ratio+a, current_angle))\n",
    "            current_angle += angles[a]\n",
    "    coord = Sort_Tuple(coord)    \n",
    "    df[\"radio\"] = list(zip(*coord))[0]\n",
    "    df[\"tetha\"] = list(zip(*coord))[1]\n",
    "    df[\"INITIAL\"] = df[initial].apply(lambda x: x[0]) # only for text in marker chart\n",
    "    return df\n",
    "\n",
    "url = 'parlamento.csv'\n",
    "df = pd.read_csv(url, sep=';')\n",
    "df = df.iloc[:] #slice for some test. some errors will be generated depending on the length of the df and the configuration of the chart\n",
    "df = df.sort_values(by=['PARTIDO'], ascending=True) # remember sort df for column \n",
    "\n",
    "#config for parlamentary plot\n",
    "graph_style = \"plotly_dark\" #template plotly\n",
    "height = 500 # height plot\n",
    "angle_total = 240 # all cover plot, recomended 90 - 300\n",
    "size_marker = 20  #config by size angle_total in design\n",
    "\n",
    "#df your dataframe\n",
    "df = parlamentary_Coord(df,angle_total,6,6)\n",
    "\n",
    "angle_start = (180 - angle_total)/2\n",
    "angle_end = 180 + (angle_total - 180)/2\n",
    "\n",
    "# recomended use 'PARTIDO', 'COLOR' in your dataframe \n",
    "d_ict = df[[\"PARTIDO\", \"COLOR\"]]\n",
    "d_ict = d_ict.drop_duplicates()\n",
    "dct = dict(d_ict.values)\n",
    "fig = px.scatter_polar(\n",
    "    df,\n",
    "    r=\"radio\",\n",
    "    theta=\"tetha\",\n",
    "    color=\"PARTIDO\",\n",
    "    color_discrete_map=dct,\n",
    "    text=\"INITIAL\",\n",
    "    start_angle=angle_start,\n",
    "    custom_data=[\"NAME\"],\n",
    "    range_theta=[angle_start, angle_end],\n",
    "    direction=\"counterclockwise\",\n",
    ")\n",
    "fig.update_layout(\n",
    "    xaxis=dict(showgrid=False),\n",
    "    yaxis=dict(showgrid=False),\n",
    "    margin=dict(b=20, r=5, l=5, t=10),\n",
    "    height=height,\n",
    "    polar=dict(\n",
    "        radialaxis=dict(\n",
    "            showticklabels=False, ticks=\"\", linecolor=\"rgba(255, 255, 255, 0)\"\n",
    "        ),\n",
    "        angularaxis=dict(showticklabels=False, ticks=\"\", linecolor=\"rgba(0,0,0,0)\"),\n",
    "    ),\n",
    "    polar_radialaxis_gridcolor=\"rgba(0,0,0,0)\",\n",
    "    polar_angularaxis_gridcolor=\"rgba(0,0,0,0)\",\n",
    ")\n",
    "fig.update_traces(textposition=\"middle center\")\n",
    "fig.update_traces(\n",
    "    hovertemplate=\"<b>%{customdata[0]}</b><extra></extra>\",\n",
    "    textfont_size=12,\n",
    ")\n",
    "fig.update_layout(\n",
    "    template=graph_style,\n",
    "    autosize=True,\n",
    "    showlegend=False,\n",
    "    uniformtext_minsize=8,\n",
    "    uniformtext_mode=\"hide\",\n",
    "    font=dict(family=\"Arial, monospace\", size=12),\n",
    "    width=600,\n",
    ")\n",
    "fig.update_traces(marker=dict(opacity=0.7, size=size_marker))\n",
    "fig.add_annotation(x=0.5, y=0.2,text= str(len(df)), showarrow=False,font=dict(family=\"Arial, monospace\",size=40))#annotation number\n",
    "fig.show()"
   ]
  },
  {
   "cell_type": "code",
   "execution_count": null,
   "metadata": {},
   "outputs": [],
   "source": []
  }
 ],
 "metadata": {
  "kernelspec": {
   "display_name": "base",
   "language": "python",
   "name": "python3"
  },
  "language_info": {
   "codemirror_mode": {
    "name": "ipython",
    "version": 3
   },
   "file_extension": ".py",
   "mimetype": "text/x-python",
   "name": "python",
   "nbconvert_exporter": "python",
   "pygments_lexer": "ipython3",
   "version": "3.12.7"
  }
 },
 "nbformat": 4,
 "nbformat_minor": 2
}
