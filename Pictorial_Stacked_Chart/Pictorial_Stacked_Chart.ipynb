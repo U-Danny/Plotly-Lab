{
 "cells": [
  {
   "cell_type": "markdown",
   "metadata": {},
   "source": [
    "### 🧍‍♂️ Pictorial Stacked Chart – Visualizing Parts of a Whole with Icons\n",
    "\n",
    "A **Pictorial Stacked Chart** represents parts of a whole using a custom shape or icon filled proportionally based on category values.  \n",
    "It's useful for:\n",
    "\n",
    "- Showing **proportional data** in an engaging, visual way  \n",
    "- Enhancing **storytelling** and accessibility through intuitive shapes  \n",
    "- Replacing traditional stacked bars with **iconic representations**\n",
    "\n",
    "This type of chart is ideal when you want to **capture attention** or **simplify data interpretation** in reports, infographics, or dashboards.\n"
   ]
  },
  {
   "cell_type": "code",
   "execution_count": 5,
   "metadata": {},
   "outputs": [
    {
     "data": {
      "application/vnd.plotly.v1+json": {
       "config": {
        "plotlyServerURL": "https://plot.ly"
       },
       "data": [
        {
         "dx": 1,
         "dy": 1,
         "hovertemplate": "X: %{x}<br>Y: %{y}<br>Color: %{z}<extra></extra>",
         "name": "0",
         "source": "data:image/png;base64,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",
         "type": "image",
         "x0": 0,
         "xaxis": "x",
         "y0": 0,
         "yaxis": "y"
        }
       ],
       "layout": {
        "annotations": [
         {
          "arrowsize": 0.5,
          "ax": -50,
          "ay": 0,
          "showarrow": true,
          "text": "34.0% Amazon Web Services (AWS)",
          "x": 0,
          "xanchor": "right",
          "y": 87.04
         },
         {
          "arrowsize": 0.5,
          "ax": -50,
          "ay": 0,
          "showarrow": true,
          "text": "23.0% Microsoft Azure",
          "x": 0,
          "xanchor": "right",
          "y": 232.95999999999998
         },
         {
          "arrowsize": 0.5,
          "ax": -50,
          "ay": 0,
          "showarrow": true,
          "text": "10.0% Google Cloud Platform (GCP)",
          "x": 0,
          "xanchor": "right",
          "y": 317.44
         },
         {
          "arrowsize": 0.5,
          "ax": -50,
          "ay": 0,
          "showarrow": true,
          "text": "33.0% Otros",
          "x": 0,
          "xanchor": "right",
          "y": 427.52
         }
        ],
        "coloraxis": {
         "colorbar": {
          "x": 0.8
         },
         "showscale": false
        },
        "height": 400,
        "margin": {
         "b": 20,
         "l": 20,
         "r": 20,
         "t": 20
        },
        "template": {
         "data": {
          "bar": [
           {
            "error_x": {
             "color": "#f2f5fa"
            },
            "error_y": {
             "color": "#f2f5fa"
            },
            "marker": {
             "line": {
              "color": "rgb(17,17,17)",
              "width": 0.5
             },
             "pattern": {
              "fillmode": "overlay",
              "size": 10,
              "solidity": 0.2
             }
            },
            "type": "bar"
           }
          ],
          "barpolar": [
           {
            "marker": {
             "line": {
              "color": "rgb(17,17,17)",
              "width": 0.5
             },
             "pattern": {
              "fillmode": "overlay",
              "size": 10,
              "solidity": 0.2
             }
            },
            "type": "barpolar"
           }
          ],
          "carpet": [
           {
            "aaxis": {
             "endlinecolor": "#A2B1C6",
             "gridcolor": "#506784",
             "linecolor": "#506784",
             "minorgridcolor": "#506784",
             "startlinecolor": "#A2B1C6"
            },
            "baxis": {
             "endlinecolor": "#A2B1C6",
             "gridcolor": "#506784",
             "linecolor": "#506784",
             "minorgridcolor": "#506784",
             "startlinecolor": "#A2B1C6"
            },
            "type": "carpet"
           }
          ],
          "choropleth": [
           {
            "colorbar": {
             "outlinewidth": 0,
             "ticks": ""
            },
            "type": "choropleth"
           }
          ],
          "contour": [
           {
            "colorbar": {
             "outlinewidth": 0,
             "ticks": ""
            },
            "colorscale": [
             [
              0,
              "#0d0887"
             ],
             [
              0.1111111111111111,
              "#46039f"
             ],
             [
              0.2222222222222222,
              "#7201a8"
             ],
             [
              0.3333333333333333,
              "#9c179e"
             ],
             [
              0.4444444444444444,
              "#bd3786"
             ],
             [
              0.5555555555555556,
              "#d8576b"
             ],
             [
              0.6666666666666666,
              "#ed7953"
             ],
             [
              0.7777777777777778,
              "#fb9f3a"
             ],
             [
              0.8888888888888888,
              "#fdca26"
             ],
             [
              1,
              "#f0f921"
             ]
            ],
            "type": "contour"
           }
          ],
          "contourcarpet": [
           {
            "colorbar": {
             "outlinewidth": 0,
             "ticks": ""
            },
            "type": "contourcarpet"
           }
          ],
          "heatmap": [
           {
            "colorbar": {
             "outlinewidth": 0,
             "ticks": ""
            },
            "colorscale": [
             [
              0,
              "#0d0887"
             ],
             [
              0.1111111111111111,
              "#46039f"
             ],
             [
              0.2222222222222222,
              "#7201a8"
             ],
             [
              0.3333333333333333,
              "#9c179e"
             ],
             [
              0.4444444444444444,
              "#bd3786"
             ],
             [
              0.5555555555555556,
              "#d8576b"
             ],
             [
              0.6666666666666666,
              "#ed7953"
             ],
             [
              0.7777777777777778,
              "#fb9f3a"
             ],
             [
              0.8888888888888888,
              "#fdca26"
             ],
             [
              1,
              "#f0f921"
             ]
            ],
            "type": "heatmap"
           }
          ],
          "heatmapgl": [
           {
            "colorbar": {
             "outlinewidth": 0,
             "ticks": ""
            },
            "colorscale": [
             [
              0,
              "#0d0887"
             ],
             [
              0.1111111111111111,
              "#46039f"
             ],
             [
              0.2222222222222222,
              "#7201a8"
             ],
             [
              0.3333333333333333,
              "#9c179e"
             ],
             [
              0.4444444444444444,
              "#bd3786"
             ],
             [
              0.5555555555555556,
              "#d8576b"
             ],
             [
              0.6666666666666666,
              "#ed7953"
             ],
             [
              0.7777777777777778,
              "#fb9f3a"
             ],
             [
              0.8888888888888888,
              "#fdca26"
             ],
             [
              1,
              "#f0f921"
             ]
            ],
            "type": "heatmapgl"
           }
          ],
          "histogram": [
           {
            "marker": {
             "pattern": {
              "fillmode": "overlay",
              "size": 10,
              "solidity": 0.2
             }
            },
            "type": "histogram"
           }
          ],
          "histogram2d": [
           {
            "colorbar": {
             "outlinewidth": 0,
             "ticks": ""
            },
            "colorscale": [
             [
              0,
              "#0d0887"
             ],
             [
              0.1111111111111111,
              "#46039f"
             ],
             [
              0.2222222222222222,
              "#7201a8"
             ],
             [
              0.3333333333333333,
              "#9c179e"
             ],
             [
              0.4444444444444444,
              "#bd3786"
             ],
             [
              0.5555555555555556,
              "#d8576b"
             ],
             [
              0.6666666666666666,
              "#ed7953"
             ],
             [
              0.7777777777777778,
              "#fb9f3a"
             ],
             [
              0.8888888888888888,
              "#fdca26"
             ],
             [
              1,
              "#f0f921"
             ]
            ],
            "type": "histogram2d"
           }
          ],
          "histogram2dcontour": [
           {
            "colorbar": {
             "outlinewidth": 0,
             "ticks": ""
            },
            "colorscale": [
             [
              0,
              "#0d0887"
             ],
             [
              0.1111111111111111,
              "#46039f"
             ],
             [
              0.2222222222222222,
              "#7201a8"
             ],
             [
              0.3333333333333333,
              "#9c179e"
             ],
             [
              0.4444444444444444,
              "#bd3786"
             ],
             [
              0.5555555555555556,
              "#d8576b"
             ],
             [
              0.6666666666666666,
              "#ed7953"
             ],
             [
              0.7777777777777778,
              "#fb9f3a"
             ],
             [
              0.8888888888888888,
              "#fdca26"
             ],
             [
              1,
              "#f0f921"
             ]
            ],
            "type": "histogram2dcontour"
           }
          ],
          "mesh3d": [
           {
            "colorbar": {
             "outlinewidth": 0,
             "ticks": ""
            },
            "type": "mesh3d"
           }
          ],
          "parcoords": [
           {
            "line": {
             "colorbar": {
              "outlinewidth": 0,
              "ticks": ""
             }
            },
            "type": "parcoords"
           }
          ],
          "pie": [
           {
            "automargin": true,
            "type": "pie"
           }
          ],
          "scatter": [
           {
            "marker": {
             "line": {
              "color": "#283442"
             }
            },
            "type": "scatter"
           }
          ],
          "scatter3d": [
           {
            "line": {
             "colorbar": {
              "outlinewidth": 0,
              "ticks": ""
             }
            },
            "marker": {
             "colorbar": {
              "outlinewidth": 0,
              "ticks": ""
             }
            },
            "type": "scatter3d"
           }
          ],
          "scattercarpet": [
           {
            "marker": {
             "colorbar": {
              "outlinewidth": 0,
              "ticks": ""
             }
            },
            "type": "scattercarpet"
           }
          ],
          "scattergeo": [
           {
            "marker": {
             "colorbar": {
              "outlinewidth": 0,
              "ticks": ""
             }
            },
            "type": "scattergeo"
           }
          ],
          "scattergl": [
           {
            "marker": {
             "line": {
              "color": "#283442"
             }
            },
            "type": "scattergl"
           }
          ],
          "scattermapbox": [
           {
            "marker": {
             "colorbar": {
              "outlinewidth": 0,
              "ticks": ""
             }
            },
            "type": "scattermapbox"
           }
          ],
          "scatterpolar": [
           {
            "marker": {
             "colorbar": {
              "outlinewidth": 0,
              "ticks": ""
             }
            },
            "type": "scatterpolar"
           }
          ],
          "scatterpolargl": [
           {
            "marker": {
             "colorbar": {
              "outlinewidth": 0,
              "ticks": ""
             }
            },
            "type": "scatterpolargl"
           }
          ],
          "scatterternary": [
           {
            "marker": {
             "colorbar": {
              "outlinewidth": 0,
              "ticks": ""
             }
            },
            "type": "scatterternary"
           }
          ],
          "surface": [
           {
            "colorbar": {
             "outlinewidth": 0,
             "ticks": ""
            },
            "colorscale": [
             [
              0,
              "#0d0887"
             ],
             [
              0.1111111111111111,
              "#46039f"
             ],
             [
              0.2222222222222222,
              "#7201a8"
             ],
             [
              0.3333333333333333,
              "#9c179e"
             ],
             [
              0.4444444444444444,
              "#bd3786"
             ],
             [
              0.5555555555555556,
              "#d8576b"
             ],
             [
              0.6666666666666666,
              "#ed7953"
             ],
             [
              0.7777777777777778,
              "#fb9f3a"
             ],
             [
              0.8888888888888888,
              "#fdca26"
             ],
             [
              1,
              "#f0f921"
             ]
            ],
            "type": "surface"
           }
          ],
          "table": [
           {
            "cells": {
             "fill": {
              "color": "#506784"
             },
             "line": {
              "color": "rgb(17,17,17)"
             }
            },
            "header": {
             "fill": {
              "color": "#2a3f5f"
             },
             "line": {
              "color": "rgb(17,17,17)"
             }
            },
            "type": "table"
           }
          ]
         },
         "layout": {
          "annotationdefaults": {
           "arrowcolor": "#f2f5fa",
           "arrowhead": 0,
           "arrowwidth": 1
          },
          "autotypenumbers": "strict",
          "coloraxis": {
           "colorbar": {
            "outlinewidth": 0,
            "ticks": ""
           }
          },
          "colorscale": {
           "diverging": [
            [
             0,
             "#8e0152"
            ],
            [
             0.1,
             "#c51b7d"
            ],
            [
             0.2,
             "#de77ae"
            ],
            [
             0.3,
             "#f1b6da"
            ],
            [
             0.4,
             "#fde0ef"
            ],
            [
             0.5,
             "#f7f7f7"
            ],
            [
             0.6,
             "#e6f5d0"
            ],
            [
             0.7,
             "#b8e186"
            ],
            [
             0.8,
             "#7fbc41"
            ],
            [
             0.9,
             "#4d9221"
            ],
            [
             1,
             "#276419"
            ]
           ],
           "sequential": [
            [
             0,
             "#0d0887"
            ],
            [
             0.1111111111111111,
             "#46039f"
            ],
            [
             0.2222222222222222,
             "#7201a8"
            ],
            [
             0.3333333333333333,
             "#9c179e"
            ],
            [
             0.4444444444444444,
             "#bd3786"
            ],
            [
             0.5555555555555556,
             "#d8576b"
            ],
            [
             0.6666666666666666,
             "#ed7953"
            ],
            [
             0.7777777777777778,
             "#fb9f3a"
            ],
            [
             0.8888888888888888,
             "#fdca26"
            ],
            [
             1,
             "#f0f921"
            ]
           ],
           "sequentialminus": [
            [
             0,
             "#0d0887"
            ],
            [
             0.1111111111111111,
             "#46039f"
            ],
            [
             0.2222222222222222,
             "#7201a8"
            ],
            [
             0.3333333333333333,
             "#9c179e"
            ],
            [
             0.4444444444444444,
             "#bd3786"
            ],
            [
             0.5555555555555556,
             "#d8576b"
            ],
            [
             0.6666666666666666,
             "#ed7953"
            ],
            [
             0.7777777777777778,
             "#fb9f3a"
            ],
            [
             0.8888888888888888,
             "#fdca26"
            ],
            [
             1,
             "#f0f921"
            ]
           ]
          },
          "colorway": [
           "#636efa",
           "#EF553B",
           "#00cc96",
           "#ab63fa",
           "#FFA15A",
           "#19d3f3",
           "#FF6692",
           "#B6E880",
           "#FF97FF",
           "#FECB52"
          ],
          "font": {
           "color": "#f2f5fa"
          },
          "geo": {
           "bgcolor": "rgb(17,17,17)",
           "lakecolor": "rgb(17,17,17)",
           "landcolor": "rgb(17,17,17)",
           "showlakes": true,
           "showland": true,
           "subunitcolor": "#506784"
          },
          "hoverlabel": {
           "align": "left"
          },
          "hovermode": "closest",
          "mapbox": {
           "style": "dark"
          },
          "paper_bgcolor": "rgb(17,17,17)",
          "plot_bgcolor": "rgb(17,17,17)",
          "polar": {
           "angularaxis": {
            "gridcolor": "#506784",
            "linecolor": "#506784",
            "ticks": ""
           },
           "bgcolor": "rgb(17,17,17)",
           "radialaxis": {
            "gridcolor": "#506784",
            "linecolor": "#506784",
            "ticks": ""
           }
          },
          "scene": {
           "xaxis": {
            "backgroundcolor": "rgb(17,17,17)",
            "gridcolor": "#506784",
            "gridwidth": 2,
            "linecolor": "#506784",
            "showbackground": true,
            "ticks": "",
            "zerolinecolor": "#C8D4E3"
           },
           "yaxis": {
            "backgroundcolor": "rgb(17,17,17)",
            "gridcolor": "#506784",
            "gridwidth": 2,
            "linecolor": "#506784",
            "showbackground": true,
            "ticks": "",
            "zerolinecolor": "#C8D4E3"
           },
           "zaxis": {
            "backgroundcolor": "rgb(17,17,17)",
            "gridcolor": "#506784",
            "gridwidth": 2,
            "linecolor": "#506784",
            "showbackground": true,
            "ticks": "",
            "zerolinecolor": "#C8D4E3"
           }
          },
          "shapedefaults": {
           "line": {
            "color": "#f2f5fa"
           }
          },
          "sliderdefaults": {
           "bgcolor": "#C8D4E3",
           "bordercolor": "rgb(17,17,17)",
           "borderwidth": 1,
           "tickwidth": 0
          },
          "ternary": {
           "aaxis": {
            "gridcolor": "#506784",
            "linecolor": "#506784",
            "ticks": ""
           },
           "baxis": {
            "gridcolor": "#506784",
            "linecolor": "#506784",
            "ticks": ""
           },
           "bgcolor": "rgb(17,17,17)",
           "caxis": {
            "gridcolor": "#506784",
            "linecolor": "#506784",
            "ticks": ""
           }
          },
          "title": {
           "x": 0.05
          },
          "updatemenudefaults": {
           "bgcolor": "#506784",
           "borderwidth": 0
          },
          "xaxis": {
           "automargin": true,
           "gridcolor": "#283442",
           "linecolor": "#506784",
           "ticks": "",
           "title": {
            "standoff": 15
           },
           "zerolinecolor": "#283442",
           "zerolinewidth": 2
          },
          "yaxis": {
           "automargin": true,
           "gridcolor": "#283442",
           "linecolor": "#506784",
           "ticks": "",
           "title": {
            "standoff": 15
           },
           "zerolinecolor": "#283442",
           "zerolinewidth": 2
          }
         }
        },
        "title": {
         "text": "Pictorial ",
         "x": 0.5,
         "y": 0.95
        },
        "width": 500,
        "xaxis": {
         "anchor": "y",
         "domain": [
          0,
          1
         ],
         "showticklabels": false,
         "title": {
          "text": "Time"
         },
         "visible": false
        },
        "yaxis": {
         "anchor": "x",
         "domain": [
          0,
          1
         ],
         "showticklabels": false,
         "title": {
          "text": "Y"
         },
         "type": "linear",
         "visible": false
        }
       }
      }
     },
     "metadata": {},
     "output_type": "display_data"
    }
   ],
   "source": [
    "import plotly.express as px\n",
    "import PIL\n",
    "import cairosvg\n",
    "import plotly.express as px\n",
    "import io\n",
    "import numpy as np\n",
    "import pandas as pd\n",
    "\n",
    "#Function generate color scale in array svg\n",
    "def genCategoryColor(matrix,start = 0.33, end = 1, color_rgb=[255,0,0]):\n",
    "    for x in range(int(round(matrix.shape[0]*start,0)), int(round(matrix.shape[0]*end,0))):\n",
    "        if (np.any(matrix[x,:,:])):  \n",
    "            for y in range(matrix.shape[1]): \n",
    "                if (np.any(matrix[x][y])):\n",
    "                    if x>=matrix.shape[0]*start and x < matrix.shape[0]*end:\n",
    "                        matrix[x][y] = [color_rgb[0],color_rgb[1],color_rgb[2],list(matrix[x][y])[-1]]\n",
    "                        # x_l.append(x)\n",
    "                        # y_l.append(y)\n",
    "                        # color_l.append()\n",
    "    return matrix\n",
    "\n",
    "#Function generate annotation in chart\n",
    "def addAnnotation(fig,shape, start= 0.33, end = 1, text='Annotation'):\n",
    "     fig.add_annotation(\n",
    "        x=0,\n",
    "        y=shape[0]*((start+end)/2),\n",
    "        text=text,\n",
    "        showarrow=True,\n",
    "        xanchor=\"right\",\n",
    "        ax=-50,\n",
    "        ay=0,\n",
    "        arrowsize=0.5,\n",
    "    )\n",
    "\n",
    "\n",
    "#data example:\n",
    "pc_1 = {'name':'Amazon Web Services (AWS)', 'start':0, 'end': 0.34, 'color':[255, 161, 6]}\n",
    "pc_2 = {'name':'Microsoft Azure', 'start':0.34, 'end': 0.57, 'color':[6, 142, 255]}\n",
    "pc_3 = {'name':'Google Cloud Platform (GCP)', 'start':0.57, 'end': 0.67, 'color':[255, 56, 7]}\n",
    "pc_4 = {'name':'Otros', 'start':0.67, 'end': 1, 'color':[7, 217, 255]}\n",
    "df = pd.DataFrame([pc_1,pc_2,pc_3,pc_4])\n",
    "\n",
    "# svg icon from https://fontawesome.com/search?m=free&o=r and generate matrix\n",
    "svg = '<svg xmlns=\"http://www.w3.org/2000/svg\" viewBox=\"0 0 640 512\"><!--!Font Awesome Free 6.6.0 by @fontawesome - https://fontawesome.com License - https://fontawesome.com/license/free Copyright 2024 Fonticons, Inc.--><path d=\"M0 336c0 79.5 64.5 144 144 144l368 0c70.7 0 128-57.3 128-128c0-61.9-44-113.6-102.4-125.4c4.1-10.7 6.4-22.4 6.4-34.6c0-53-43-96-96-96c-19.7 0-38.1 6-53.3 16.2C367 64.2 315.3 32 256 32C167.6 32 96 103.6 96 192c0 2.7 .1 5.4 .2 8.1C40.2 219.8 0 273.2 0 336z\"/></svg>'\n",
    "im = PIL.Image.open(io.BytesIO(cairosvg.svg2png(bytestring=svg))).convert(\"RGBA\")\n",
    "matrix = np.array(im)\n",
    "\n",
    "\n",
    "for index, row in df.iterrows():\n",
    "  matrix = genCategoryColor(matrix,row['start'],row['end'],list(row['color']))\n",
    "\n",
    "fig = px.imshow(\n",
    "    matrix,\n",
    "    y= range(matrix.shape[0]-50),\n",
    "    x= range(matrix.shape[1]),\n",
    "    height=400,\n",
    "    width=500,\n",
    "    template='plotly_dark',\n",
    "    labels=dict(x=\"X\", \n",
    "                y=\"Y\", \n",
    "                color=\"Color\")\n",
    "    )\n",
    "\n",
    "\n",
    "for index, row in df.iterrows():\n",
    "    if row['name'] != 'Over':\n",
    "        addAnnotation(fig,matrix.shape,row['start'],row['end'],str(round((row['end']-row['start'])*100,2))+'% '+row['name'])\n",
    "\n",
    "fig.update_xaxes(title = 'Time', showticklabels=False, visible = False)\n",
    "fig.update_yaxes(visible=False, type='linear', showticklabels=False)\n",
    "fig.update_layout(coloraxis_showscale=False,margin=dict(l=20,r=20,b=20,t=20))\n",
    "fig.update_layout(coloraxis_colorbar_x=0.8)\n",
    "fig.update_layout(\n",
    "        title_text=\"Pictorial \",\n",
    "        title_x=0.5,\n",
    "        title_y=0.95,\n",
    "    )\n",
    "fig.show()"
   ]
  },
  {
   "cell_type": "code",
   "execution_count": null,
   "metadata": {},
   "outputs": [],
   "source": []
  }
 ],
 "metadata": {
  "kernelspec": {
   "display_name": "base",
   "language": "python",
   "name": "python3"
  },
  "language_info": {
   "codemirror_mode": {
    "name": "ipython",
    "version": 3
   },
   "file_extension": ".py",
   "mimetype": "text/x-python",
   "name": "python",
   "nbconvert_exporter": "python",
   "pygments_lexer": "ipython3",
   "version": "3.12.7"
  }
 },
 "nbformat": 4,
 "nbformat_minor": 2
}
