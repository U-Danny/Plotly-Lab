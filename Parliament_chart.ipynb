{
 "cells": [
  {
   "cell_type": "markdown",
   "metadata": {},
   "source": [
    "# Parliament chart\n",
    "### Chart plotly"
   ]
  },
  {
   "cell_type": "code",
   "execution_count": 1,
   "metadata": {},
   "outputs": [],
   "source": [
    "#pip install pandas -q\n",
    "#pip install plotly -q"
   ]
  },
  {
   "cell_type": "code",
   "execution_count": 2,
   "metadata": {},
   "outputs": [
    {
     "data": {
      "application/vnd.plotly.v1+json": {
       "config": {
        "plotlyServerURL": "https://plot.ly"
       },
       "data": [
        {
         "customdata": [
          [
           "A"
          ],
          [
           "M"
          ],
          [
           "C"
          ],
          [
           "C"
          ],
          [
           "B"
          ],
          [
           "E"
          ],
          [
           "K"
          ],
          [
           "M"
          ],
          [
           "L"
          ],
          [
           "M"
          ],
          [
           "A"
          ],
          [
           "F"
          ],
          [
           "L"
          ],
          [
           "B"
          ],
          [
           "J"
          ],
          [
           "O"
          ],
          [
           "J"
          ],
          [
           "I"
          ],
          [
           "R"
          ],
          [
           "G"
          ],
          [
           "H"
          ],
          [
           "Q"
          ],
          [
           "K"
          ],
          [
           "K"
          ],
          [
           "P"
          ]
         ],
         "hovertemplate": "<b>%{customdata[0]}</b><extra></extra>",
         "legendgroup": "PARTIDO-1",
         "marker": {
          "color": "#cb4325",
          "opacity": 0.7,
          "size": 25,
          "symbol": "circle"
         },
         "mode": "markers+text",
         "name": "PARTIDO-1",
         "r": [
          11,
          10,
          9,
          8,
          7,
          6,
          11,
          10,
          9,
          8,
          7,
          11,
          10,
          6,
          9,
          8,
          11,
          10,
          7,
          9,
          11,
          6,
          8,
          10,
          11
         ],
         "showlegend": true,
         "subplot": "polar",
         "text": [
          "A",
          "M",
          "C",
          "C",
          "B",
          "E",
          "K",
          "M",
          "L",
          "M",
          "A",
          "F",
          "L",
          "B",
          "J",
          "O",
          "J",
          "I",
          "R",
          "G",
          "H",
          "Q",
          "K",
          "K",
          "P"
         ],
         "textfont": {
          "size": 12
         },
         "textposition": "middle center",
         "theta": [
          2.857142857142857,
          3.1818181818181817,
          3.5,
          4,
          4.516129032258065,
          5.384615384615385,
          8.571428571428571,
          9.545454545454545,
          10.5,
          12,
          13.548387096774196,
          14.285714285714285,
          15.909090909090908,
          16.153846153846153,
          17.5,
          20,
          20,
          22.272727272727273,
          22.580645161290327,
          24.5,
          25.714285714285715,
          26.923076923076923,
          28,
          28.636363636363637,
          31.42857142857143
         ],
         "type": "scatterpolar"
        },
        {
         "customdata": [
          [
           "I"
          ],
          [
           "M"
          ],
          [
           "C"
          ],
          [
           "R"
          ],
          [
           "Q"
          ],
          [
           "A"
          ],
          [
           "P"
          ],
          [
           "O"
          ],
          [
           "B"
          ],
          [
           "J"
          ],
          [
           "H"
          ],
          [
           "G"
          ],
          [
           "K"
          ],
          [
           "L"
          ],
          [
           "M"
          ],
          [
           "F"
          ],
          [
           "L"
          ],
          [
           "M"
          ],
          [
           "B"
          ],
          [
           "J"
          ],
          [
           "E"
          ],
          [
           "E"
          ],
          [
           "C"
          ],
          [
           "K"
          ],
          [
           "L"
          ]
         ],
         "hovertemplate": "<b>%{customdata[0]}</b><extra></extra>",
         "legendgroup": "PARTIDO-2",
         "marker": {
          "color": "#ff9402",
          "opacity": 0.7,
          "size": 25,
          "symbol": "circle"
         },
         "mode": "markers+text",
         "name": "PARTIDO-2",
         "r": [
          9,
          7,
          10,
          8,
          11,
          6,
          9,
          7,
          10,
          11,
          8,
          9,
          10,
          6,
          11,
          7,
          8,
          9,
          10,
          11,
          7,
          6,
          9,
          8,
          11
         ],
         "showlegend": true,
         "subplot": "polar",
         "text": [
          "I",
          "M",
          "C",
          "R",
          "Q",
          "A",
          "P",
          "O",
          "B",
          "J",
          "H",
          "G",
          "K",
          "L",
          "M",
          "F",
          "L",
          "M",
          "B",
          "J",
          "E",
          "E",
          "C",
          "K",
          "L"
         ],
         "textfont": {
          "size": 12
         },
         "textposition": "middle center",
         "theta": [
          31.5,
          31.612903225806456,
          35,
          36,
          37.142857142857146,
          37.69230769230769,
          38.5,
          40.645161290322584,
          41.36363636363636,
          42.85714285714286,
          44,
          45.5,
          47.72727272727272,
          48.46153846153847,
          48.57142857142858,
          49.67741935483871,
          52,
          52.5,
          54.09090909090908,
          54.28571428571429,
          58.70967741935484,
          59.23076923076924,
          59.5,
          60,
          60.00000000000001
         ],
         "type": "scatterpolar"
        },
        {
         "customdata": [
          [
           "P"
          ],
          [
           "M"
          ],
          [
           "Q"
          ],
          [
           "C"
          ],
          [
           "K"
          ],
          [
           "B"
          ],
          [
           "I"
          ],
          [
           "M"
          ],
          [
           "K"
          ],
          [
           "L"
          ],
          [
           "E"
          ],
          [
           "M"
          ],
          [
           "H"
          ],
          [
           "R"
          ],
          [
           "G"
          ],
          [
           "J"
          ],
          [
           "F"
          ],
          [
           "E"
          ],
          [
           "A"
          ],
          [
           "L"
          ],
          [
           "C"
          ],
          [
           "O"
          ],
          [
           "F"
          ],
          [
           "M"
          ],
          [
           "M"
          ]
         ],
         "hovertemplate": "<b>%{customdata[0]}</b><extra></extra>",
         "legendgroup": "PARTIDO-3",
         "marker": {
          "color": "#ffdc02",
          "opacity": 0.7,
          "size": 25,
          "symbol": "circle"
         },
         "mode": "markers+text",
         "name": "PARTIDO-3",
         "r": [
          10,
          11,
          9,
          10,
          7,
          8,
          6,
          11,
          10,
          9,
          8,
          7,
          11,
          10,
          9,
          6,
          11,
          8,
          7,
          10,
          9,
          11,
          6,
          8,
          10
         ],
         "showlegend": true,
         "subplot": "polar",
         "text": [
          "P",
          "M",
          "Q",
          "C",
          "K",
          "B",
          "I",
          "M",
          "K",
          "L",
          "E",
          "M",
          "H",
          "R",
          "G",
          "J",
          "F",
          "E",
          "A",
          "L",
          "C",
          "O",
          "F",
          "M",
          "M"
         ],
         "textfont": {
          "size": 12
         },
         "textposition": "middle center",
         "theta": [
          60.45454545454544,
          65.71428571428572,
          66.5,
          66.8181818181818,
          67.74193548387098,
          68,
          70.00000000000001,
          71.42857142857143,
          73.18181818181816,
          73.5,
          76,
          76.7741935483871,
          77.14285714285714,
          79.54545454545452,
          80.5,
          80.76923076923079,
          82.85714285714285,
          84,
          85.80645161290323,
          85.90909090909088,
          87.5,
          88.57142857142856,
          91.53846153846156,
          92,
          92.27272727272724
         ],
         "type": "scatterpolar"
        },
        {
         "customdata": [
          [
           "M"
          ],
          [
           "O"
          ],
          [
           "J"
          ],
          [
           "L"
          ],
          [
           "J"
          ],
          [
           "A"
          ],
          [
           "B"
          ],
          [
           "E"
          ],
          [
           "M"
          ],
          [
           "C"
          ],
          [
           "K"
          ],
          [
           "R"
          ],
          [
           "G"
          ],
          [
           "P"
          ],
          [
           "F"
          ],
          [
           "G"
          ],
          [
           "H"
          ],
          [
           "M"
          ],
          [
           "Q"
          ],
          [
           "E"
          ],
          [
           "O"
          ],
          [
           "L"
          ],
          [
           "F"
          ],
          [
           "I"
          ],
          [
           "M"
          ]
         ],
         "hovertemplate": "<b>%{customdata[0]}</b><extra></extra>",
         "legendgroup": "PARTIDO-4",
         "marker": {
          "color": "#d1ff02",
          "opacity": 0.7,
          "size": 25,
          "symbol": "circle"
         },
         "mode": "markers+text",
         "name": "PARTIDO-4",
         "r": [
          11,
          9,
          7,
          10,
          11,
          8,
          9,
          6,
          7,
          10,
          11,
          8,
          9,
          10,
          11,
          7,
          6,
          9,
          8,
          11,
          10,
          7,
          9,
          11,
          6
         ],
         "showlegend": true,
         "subplot": "polar",
         "text": [
          "M",
          "O",
          "J",
          "L",
          "J",
          "A",
          "B",
          "E",
          "M",
          "C",
          "K",
          "R",
          "G",
          "P",
          "F",
          "G",
          "H",
          "M",
          "Q",
          "E",
          "O",
          "L",
          "F",
          "I",
          "M"
         ],
         "textfont": {
          "size": 12
         },
         "textposition": "middle center",
         "theta": [
          94.28571428571426,
          94.5,
          94.83870967741936,
          98.6363636363636,
          99.99999999999997,
          100,
          101.5,
          102.30769230769234,
          103.87096774193549,
          104.99999999999996,
          105.71428571428568,
          108,
          108.5,
          111.36363636363632,
          111.42857142857139,
          112.90322580645162,
          113.07692307692311,
          115.5,
          116,
          117.1428571428571,
          117.72727272727268,
          121.93548387096774,
          122.5,
          122.8571428571428,
          123.84615384615388
         ],
         "type": "scatterpolar"
        },
        {
         "customdata": [
          [
           "F"
          ],
          [
           "E"
          ],
          [
           "M"
          ],
          [
           "O"
          ],
          [
           "H"
          ],
          [
           "C"
          ],
          [
           "J"
          ],
          [
           "K"
          ],
          [
           "G"
          ],
          [
           "P"
          ],
          [
           "M"
          ],
          [
           "M"
          ],
          [
           "L"
          ],
          [
           "P"
          ],
          [
           "G"
          ],
          [
           "K"
          ],
          [
           "H"
          ],
          [
           "J"
          ],
          [
           "A"
          ],
          [
           "Q"
          ],
          [
           "B"
          ],
          [
           "O"
          ],
          [
           "R"
          ],
          [
           "F"
          ],
          [
           "I"
          ]
         ],
         "hovertemplate": "<b>%{customdata[0]}</b><extra></extra>",
         "legendgroup": "PARTIDO-5",
         "marker": {
          "color": "#30ff02",
          "opacity": 0.7,
          "size": 25,
          "symbol": "circle"
         },
         "mode": "markers+text",
         "name": "PARTIDO-5",
         "r": [
          8,
          10,
          11,
          9,
          10,
          7,
          8,
          11,
          6,
          9,
          10,
          11,
          7,
          8,
          10,
          9,
          6,
          11,
          8,
          7,
          10,
          9,
          11,
          10,
          8
         ],
         "showlegend": true,
         "subplot": "polar",
         "text": [
          "F",
          "E",
          "M",
          "O",
          "H",
          "C",
          "J",
          "K",
          "G",
          "P",
          "M",
          "M",
          "L",
          "P",
          "G",
          "K",
          "H",
          "J",
          "A",
          "Q",
          "B",
          "O",
          "R",
          "F",
          "I"
         ],
         "textfont": {
          "size": 12
         },
         "textposition": "middle center",
         "theta": [
          124,
          124.09090909090904,
          128.57142857142853,
          129.5,
          130.4545454545454,
          130.96774193548387,
          132,
          134.28571428571425,
          134.61538461538464,
          136.5,
          136.81818181818178,
          139.99999999999997,
          140,
          140,
          143.18181818181816,
          143.5,
          145.38461538461542,
          145.7142857142857,
          148,
          149.03225806451613,
          149.54545454545453,
          150.5,
          151.42857142857142,
          155.9090909090909,
          156
         ],
         "type": "scatterpolar"
        },
        {
         "customdata": [
          [
           "A"
          ],
          [
           "H"
          ],
          [
           "O"
          ],
          [
           "G"
          ],
          [
           "K"
          ],
          [
           "I"
          ],
          [
           "P"
          ],
          [
           "Q"
          ],
          [
           "Q"
          ],
          [
           "F"
          ],
          [
           "R"
          ],
          [
           "B"
          ],
          [
           "M"
          ],
          [
           "I"
          ],
          [
           "L"
          ],
          [
           "H"
          ],
          [
           "G"
          ],
          [
           "M"
          ],
          [
           "L"
          ],
          [
           "J"
          ],
          [
           "P"
          ],
          [
           "J"
          ],
          [
           "C"
          ],
          [
           "K"
          ],
          [
           "E"
          ]
         ],
         "hovertemplate": "<b>%{customdata[0]}</b><extra></extra>",
         "legendgroup": "PARTIDO-6",
         "marker": {
          "color": "#02ffe8",
          "opacity": 0.7,
          "size": 25,
          "symbol": "circle"
         },
         "mode": "markers+text",
         "name": "PARTIDO-6",
         "r": [
          6,
          11,
          9,
          7,
          10,
          11,
          8,
          9,
          6,
          7,
          11,
          10,
          9,
          8,
          11,
          10,
          7,
          6,
          9,
          8,
          11,
          10,
          7,
          9,
          11
         ],
         "showlegend": true,
         "subplot": "polar",
         "text": [
          "A",
          "H",
          "O",
          "G",
          "K",
          "I",
          "P",
          "Q",
          "Q",
          "F",
          "R",
          "B",
          "M",
          "I",
          "L",
          "H",
          "G",
          "M",
          "L",
          "J",
          "P",
          "J",
          "C",
          "K",
          "E"
         ],
         "textfont": {
          "size": 12
         },
         "textposition": "middle center",
         "theta": [
          156.1538461538462,
          157.14285714285714,
          157.5,
          158.06451612903226,
          162.27272727272728,
          162.85714285714286,
          164,
          164.5,
          166.92307692307696,
          167.09677419354838,
          168.57142857142858,
          168.63636363636365,
          171.5,
          172,
          174.2857142857143,
          175.00000000000003,
          176.1290322580645,
          177.69230769230774,
          178.5,
          180,
          180.00000000000003,
          181.3636363636364,
          185.16129032258064,
          185.5,
          185.71428571428575
         ],
         "type": "scatterpolar"
        },
        {
         "customdata": [
          [
           "M"
          ],
          [
           "H"
          ],
          [
           "L"
          ],
          [
           "A"
          ],
          [
           "J"
          ],
          [
           "Q"
          ],
          [
           "K"
          ],
          [
           "R"
          ],
          [
           "R"
          ],
          [
           "I"
          ],
          [
           "J"
          ],
          [
           "I"
          ],
          [
           "K"
          ],
          [
           "Q"
          ],
          [
           "M"
          ],
          [
           "P"
          ],
          [
           "H"
          ],
          [
           "O"
          ],
          [
           "C"
          ],
          [
           "G"
          ],
          [
           "B"
          ],
          [
           "L"
          ],
          [
           "M"
          ],
          [
           "E"
          ],
          [
           "F"
          ]
         ],
         "hovertemplate": "<b>%{customdata[0]}</b><extra></extra>",
         "legendgroup": "PARTIDO-7",
         "marker": {
          "color": "#0252ff",
          "opacity": 0.7,
          "size": 25,
          "symbol": "circle"
         },
         "mode": "markers+text",
         "name": "PARTIDO-7",
         "r": [
          10,
          8,
          6,
          11,
          9,
          10,
          7,
          8,
          11,
          6,
          9,
          10,
          11,
          7,
          8,
          9,
          10,
          11,
          6,
          8,
          7,
          10,
          9,
          11,
          10
         ],
         "showlegend": true,
         "subplot": "polar",
         "text": [
          "M",
          "H",
          "L",
          "A",
          "J",
          "Q",
          "K",
          "R",
          "R",
          "I",
          "J",
          "I",
          "K",
          "Q",
          "M",
          "P",
          "H",
          "O",
          "C",
          "G",
          "B",
          "L",
          "M",
          "E",
          "F"
         ],
         "textfont": {
          "size": 12
         },
         "textposition": "middle center",
         "theta": [
          187.72727272727278,
          188,
          188.4615384615385,
          191.42857142857147,
          192.5,
          194.09090909090915,
          194.19354838709677,
          196,
          197.1428571428572,
          199.23076923076928,
          199.5,
          200.45454545454552,
          202.85714285714292,
          203.2258064516129,
          204,
          206.5,
          206.8181818181819,
          208.57142857142864,
          210.00000000000006,
          212,
          212.25806451612902,
          213.18181818181827,
          213.5,
          214.28571428571436,
          219.54545454545465
         ],
         "type": "scatterpolar"
        },
        {
         "customdata": [
          [
           "E"
          ],
          [
           "M"
          ],
          [
           "A"
          ],
          [
           "H"
          ],
          [
           "L"
          ],
          [
           "G"
          ],
          [
           "K"
          ],
          [
           "P"
          ],
          [
           "A"
          ],
          [
           "L"
          ],
          [
           "K"
          ],
          [
           "R"
          ],
          [
           "I"
          ],
          [
           "J"
          ],
          [
           "Q"
          ],
          [
           "F"
          ],
          [
           "C"
          ],
          [
           "B"
          ],
          [
           "M"
          ],
          [
           "O"
          ],
          [
           "R"
          ],
          [
           "J"
          ],
          [
           "I"
          ],
          [
           "M"
          ],
          [
           "J"
          ]
         ],
         "hovertemplate": "<b>%{customdata[0]}</b><extra></extra>",
         "legendgroup": "PARTIDO-8",
         "marker": {
          "color": "#ba02ff",
          "opacity": 0.7,
          "size": 25,
          "symbol": "circle"
         },
         "mode": "markers+text",
         "name": "PARTIDO-8",
         "r": [
          8,
          11,
          9,
          6,
          7,
          11,
          10,
          9,
          8,
          7,
          11,
          6,
          10,
          9,
          8,
          11,
          10,
          7,
          9,
          6,
          11,
          8,
          10,
          7,
          9
         ],
         "showlegend": true,
         "subplot": "polar",
         "text": [
          "E",
          "M",
          "A",
          "H",
          "L",
          "G",
          "K",
          "P",
          "A",
          "L",
          "K",
          "R",
          "I",
          "J",
          "Q",
          "F",
          "C",
          "B",
          "M",
          "O",
          "R",
          "J",
          "I",
          "M",
          "J"
         ],
         "textfont": {
          "size": 12
         },
         "textposition": "middle center",
         "theta": [
          220,
          220.00000000000009,
          220.5,
          220.76923076923083,
          221.29032258064515,
          225.7142857142858,
          225.90909090909102,
          227.5,
          228,
          230.32258064516128,
          231.42857142857153,
          231.5384615384616,
          232.2727272727274,
          234.5,
          236,
          237.14285714285725,
          238.63636363636377,
          239.3548387096774,
          241.5,
          242.30769230769238,
          242.85714285714297,
          244,
          245.00000000000014,
          248.38709677419354,
          248.5
         ],
         "type": "scatterpolar"
        },
        {
         "customdata": [
          [
           "J"
          ],
          [
           "H"
          ],
          [
           "J"
          ],
          [
           "G"
          ],
          [
           "P"
          ],
          [
           "O"
          ],
          [
           "A"
          ],
          [
           "M"
          ],
          [
           "Q"
          ],
          [
           "J"
          ],
          [
           "A"
          ],
          [
           "C"
          ],
          [
           "E"
          ],
          [
           "R"
          ],
          [
           "K"
          ],
          [
           "M"
          ],
          [
           "L"
          ],
          [
           "I"
          ],
          [
           "B"
          ],
          [
           "B"
          ],
          [
           "F"
          ],
          [
           "L"
          ],
          [
           "K"
          ],
          [
           "M"
          ],
          [
           "K"
          ]
         ],
         "hovertemplate": "<b>%{customdata[0]}</b><extra></extra>",
         "legendgroup": "PARTIDO-9",
         "marker": {
          "color": "#a0447a",
          "opacity": 0.7,
          "size": 25,
          "symbol": "circle"
         },
         "mode": "markers+text",
         "name": "PARTIDO-9",
         "r": [
          11,
          10,
          8,
          6,
          11,
          9,
          7,
          10,
          8,
          11,
          9,
          6,
          10,
          11,
          7,
          8,
          9,
          10,
          11,
          6,
          7,
          8,
          9,
          10,
          11
         ],
         "showlegend": true,
         "subplot": "polar",
         "text": [
          "J",
          "H",
          "J",
          "G",
          "P",
          "O",
          "A",
          "M",
          "Q",
          "J",
          "A",
          "C",
          "E",
          "R",
          "K",
          "M",
          "L",
          "I",
          "B",
          "B",
          "F",
          "L",
          "K",
          "M",
          "K"
         ],
         "textfont": {
          "size": 12
         },
         "textposition": "middle center",
         "theta": [
          248.5714285714287,
          251.36363636363652,
          252,
          253.07692307692315,
          254.28571428571442,
          255.5,
          257.4193548387097,
          257.72727272727286,
          260,
          260.0000000000001,
          262.5,
          263.8461538461539,
          264.09090909090924,
          265.71428571428584,
          266.45161290322585,
          268,
          269.5,
          270.4545454545456,
          271.42857142857156,
          274.6153846153847,
          275.483870967742,
          276,
          276.5,
          276.818181818182,
          277.1428571428573
         ],
         "type": "scatterpolar"
        }
       ],
       "layout": {
        "annotations": [
         {
          "font": {
           "family": "Arial, monospace",
           "size": 40
          },
          "showarrow": false,
          "text": "225",
          "x": 0.5,
          "y": 0.2
         }
        ],
        "autosize": true,
        "font": {
         "family": "Arial, monospace",
         "size": 12
        },
        "height": 500,
        "legend": {
         "title": {
          "text": "PARTIDO"
         },
         "tracegroupgap": 0
        },
        "margin": {
         "b": 20,
         "l": 5,
         "r": 5,
         "t": 10
        },
        "polar": {
         "angularaxis": {
          "direction": "counterclockwise",
          "gridcolor": "rgba(0,0,0,0)",
          "linecolor": "rgba(0,0,0,0)",
          "rotation": -50,
          "showticklabels": false,
          "ticks": ""
         },
         "domain": {
          "x": [
           0,
           1
          ],
          "y": [
           0,
           1
          ]
         },
         "radialaxis": {
          "gridcolor": "rgba(0,0,0,0)",
          "linecolor": "rgba(255, 255, 255, 0)",
          "showticklabels": false,
          "ticks": ""
         },
         "sector": [
          -50,
          230
         ]
        },
        "showlegend": false,
        "template": {
         "data": {
          "scatter": [
           {
            "type": "scatter"
           }
          ]
         }
        },
        "uniformtext": {
         "minsize": 8,
         "mode": "hide"
        },
        "xaxis": {
         "showgrid": false
        },
        "yaxis": {
         "showgrid": false
        }
       }
      }
     },
     "metadata": {},
     "output_type": "display_data"
    }
   ],
   "source": [
    "import plotly.express as px\n",
    "import pandas as pd\n",
    "import math\n",
    "import plotly.express as px\n",
    "\n",
    "def Sort_Tuple(tup):\n",
    "    return sorted(tup, key=lambda x: x[1])\n",
    "\n",
    "def parlamentary_Coord(df,angle_total=180,rows=4, ratio=6,initial='NAME'):    \n",
    "    arco_total = 0\n",
    "    angles = []\n",
    "    for i in range(rows):\n",
    "        arco_total += math.pi * int(ratio+i)\n",
    "    for i in range(rows):\n",
    "        arco_radio = math.pi * int(ratio+i)\n",
    "        angles.append(angle_total/round(arco_radio/(arco_total/len(df)),0))\n",
    "    coord = []\n",
    "    for a in range(len(angles)):\n",
    "        current_angle = angles[a]/2\n",
    "        for i in range(int(round(angle_total/angles[a],0))):        \n",
    "            coord.append((ratio+a, current_angle))\n",
    "            current_angle += angles[a]\n",
    "    coord = Sort_Tuple(coord)    \n",
    "    df[\"radio\"] = list(zip(*coord))[0]\n",
    "    df[\"tetha\"] = list(zip(*coord))[1]\n",
    "    df[\"INITIAL\"] = df[initial].apply(lambda x: x[0]) # only for text in marker chart\n",
    "    return df\n",
    "\n",
    "url = 'https://raw.githubusercontent.com/U-Danny/test-dataset/main/parlamento.csv'\n",
    "df = pd.read_csv(url, sep=';')\n",
    "df = df.iloc[:] #slice for some test. some errors will be generated depending on the length of the df and the configuration of the chart\n",
    "df = df.sort_values(by=['PARTIDO'], ascending=True) # remember sort df for column \n",
    "\n",
    "#config for parlamentary plot\n",
    "graph_style = \"none\" #template plotly\n",
    "height = 500 # height plot\n",
    "angle_total = 280 # all cover plot, recomended 90 - 300\n",
    "size_marker = 25  #config by size angle_total in design\n",
    "\n",
    "#df your dataframe\n",
    "df = parlamentary_Coord(df,angle_total,6,6)\n",
    "\n",
    "angle_start = (180 - angle_total)/2\n",
    "angle_end = 180 + (angle_total - 180)/2\n",
    "\n",
    "# recomended use 'PARTIDO', 'COLOR' in your dataframe \n",
    "d_ict = df[[\"PARTIDO\", \"COLOR\"]]\n",
    "d_ict = d_ict.drop_duplicates()\n",
    "dct = dict(d_ict.values)\n",
    "fig = px.scatter_polar(\n",
    "    df,\n",
    "    r=\"radio\",\n",
    "    theta=\"tetha\",\n",
    "    color=\"PARTIDO\",\n",
    "    color_discrete_map=dct,\n",
    "    text=\"INITIAL\",\n",
    "    start_angle=angle_start,\n",
    "    custom_data=[\"NAME\"],\n",
    "    range_theta=[angle_start, angle_end],\n",
    "    direction=\"counterclockwise\",\n",
    ")\n",
    "fig.update_layout(\n",
    "    xaxis=dict(showgrid=False),\n",
    "    yaxis=dict(showgrid=False),\n",
    "    margin=dict(b=20, r=5, l=5, t=10),\n",
    "    height=height,\n",
    "    polar=dict(\n",
    "        radialaxis=dict(\n",
    "            showticklabels=False, ticks=\"\", linecolor=\"rgba(255, 255, 255, 0)\"\n",
    "        ),\n",
    "        angularaxis=dict(showticklabels=False, ticks=\"\", linecolor=\"rgba(0,0,0,0)\"),\n",
    "    ),\n",
    "    polar_radialaxis_gridcolor=\"rgba(0,0,0,0)\",\n",
    "    polar_angularaxis_gridcolor=\"rgba(0,0,0,0)\",\n",
    ")\n",
    "fig.update_traces(textposition=\"middle center\")\n",
    "fig.update_traces(\n",
    "    hovertemplate=\"<b>%{customdata[0]}</b><extra></extra>\",\n",
    "    textfont_size=12,\n",
    ")\n",
    "fig.update_layout(\n",
    "    template=graph_style,\n",
    "    autosize=True,\n",
    "    showlegend=False,\n",
    "    uniformtext_minsize=8,\n",
    "    uniformtext_mode=\"hide\",\n",
    "    font=dict(family=\"Arial, monospace\", size=12),\n",
    ")\n",
    "fig.update_traces(marker=dict(opacity=0.7, size=size_marker))\n",
    "fig.add_annotation(x=0.5, y=0.2,text= str(len(df)), showarrow=False,font=dict(family=\"Arial, monospace\",size=40))#annotation number\n",
    "fig.show()"
   ]
  },
  {
   "cell_type": "code",
   "execution_count": null,
   "metadata": {},
   "outputs": [],
   "source": []
  }
 ],
 "metadata": {
  "kernelspec": {
   "display_name": ".venv",
   "language": "python",
   "name": "python3"
  },
  "language_info": {
   "codemirror_mode": {
    "name": "ipython",
    "version": 3
   },
   "file_extension": ".py",
   "mimetype": "text/x-python",
   "name": "python",
   "nbconvert_exporter": "python",
   "pygments_lexer": "ipython3",
   "version": "3.10.12"
  }
 },
 "nbformat": 4,
 "nbformat_minor": 2
}
