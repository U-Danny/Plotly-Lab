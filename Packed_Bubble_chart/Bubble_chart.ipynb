{
 "cells": [
  {
   "cell_type": "markdown",
   "id": "ea88d315",
   "metadata": {},
   "source": [
    "### 📦 Packed Bubble Chart – Visualizing Proportions in a Compact Space\n",
    "\n",
    "A **Packed Bubble Chart** is a great way to visualize **part-to-whole relationships** or **relative sizes** of different categories in a compact and visually engaging form.  \n",
    "Each bubble represents a category, and its size reflects a specific numerical value, making it useful for:\n",
    "\n",
    "- Comparing **proportions** at a glance  \n",
    "- Representing **hierarchical** or grouped data  \n",
    "- Exploring **distributions** where visual area matters more than exact values\n",
    "\n",
    "This chart is especially useful when you want to present a **summary view** of many categories without relying on axes or precise scales.\n"
   ]
  },
  {
   "cell_type": "code",
   "execution_count": 4,
   "id": "e58cf512",
   "metadata": {},
   "outputs": [
    {
     "data": {
      "application/vnd.plotly.v1+json": {
       "config": {
        "plotlyServerURL": "https://plot.ly"
       },
       "data": [
        {
         "customdata": [
          [
           "Item 0"
          ],
          [
           "Item 1"
          ],
          [
           "Item 2"
          ],
          [
           "Item 3"
          ],
          [
           "Item 4"
          ],
          [
           "Item 5"
          ],
          [
           "Item 6"
          ],
          [
           "Item 7"
          ],
          [
           "Item 8"
          ],
          [
           "Item 9"
          ],
          [
           "Item 10"
          ],
          [
           "Item 11"
          ],
          [
           "Item 12"
          ],
          [
           "Item 13"
          ],
          [
           "Item 14"
          ],
          [
           "Item 15"
          ],
          [
           "Item 16"
          ],
          [
           "Item 17"
          ],
          [
           "Item 18"
          ],
          [
           "Item 19"
          ]
         ],
         "hovertemplate": "<b>%{customdata[0]}</b><br>Size: %{text}<extra></extra>",
         "marker": {
          "color": [
           "#FF5E5B",
           "#E71D36",
           "#8A4FFF",
           "#00C1B2",
           "#FF5E5B",
           "#2EC4B6",
           "#8A4FFF",
           "#A28DFF",
           "#00CC66",
           "#A28DFF",
           "#2EC4B6",
           "#FF9F1C",
           "#E71D36",
           "#8A4FFF",
           "#00CC66",
           "#A28DFF",
           "#00CC66",
           "#FF9F1C",
           "#00CC66",
           "#A28DFF"
          ],
          "opacity": 0.9,
          "size": [
           15.637253218909564,
           97.90469130080571,
           36.33769277835904,
           42.53792769892536,
           103.4897943981658,
           71.65889653684494,
           105.1307315112943,
           47.43013737843416,
           19.779734608221517,
           64.09366553960382,
           19.779734608221517,
           93.82351931345738,
           32.04683276980191,
           87.90306336038921,
           79.11893843288607,
           76.28672086234064,
           18.50224752632005,
           81.55393503638247,
           60.15771426706639,
           93.5625354440347
          ],
          "sizemode": "diameter"
         },
         "mode": "markers+text",
         "text": [
          "192.05",
          "7528.3",
          "1037.06",
          "1421.16",
          "8411.72",
          "4033.02",
          "8680.59",
          "1766.85",
          "307.28",
          "3226.41",
          "307.28",
          "6913.74",
          "806.6",
          "6068.73",
          "4916.44",
          "4570.75",
          "268.87",
          "5223.72",
          "2842.32",
          "6875.33"
         ],
         "textfont": {
          "size": [
           5,
           17.345132743362832,
           5,
           5,
           18,
           9.29203539823009,
           18,
           5,
           5,
           7.433628318584072,
           5,
           15.929203539823009,
           5,
           13.982300884955752,
           11.327433628318584,
           10.530973451327432,
           5,
           12.035398230088497,
           6.54867256637168,
           15.84070796460177
          ]
         },
         "textposition": "middle center",
         "type": "scatter",
         "x": [
          160.5991034734847,
          215.8084584472308,
          253.94850592524094,
          295.3391376911626,
          316.65496311485,
          84.66336663324063,
          113.81056367576514,
          245.06555637627727,
          275.52046418922424,
          350.52813693440834,
          123.96851641603602,
          173.99718709098437,
          219.24151203149097,
          309.85460726405296,
          399.56290342407925,
          162.94950212030957,
          255.21323434594072,
          241.94444858255756,
          310.8579594842893,
          389.4867049219747
         ],
         "y": [
          69.93844335908494,
          90.08676127149518,
          147.73289177877663,
          145.75609092592572,
          70.67783951410021,
          201.91062961040691,
          111.20095762805603,
          190.7852376565155,
          172.34045276560886,
          149.49934608473563,
          174.85072710083534,
          205.7499745445454,
          157.99469062644047,
          216.39411212038038,
          204.39451385155235,
          292.1012492339184,
          224.24654858181896,
          274.55422177574195,
          298.19527689802476,
          292.1587213759987
         ]
        }
       ],
       "layout": {
        "height": 500,
        "margin": {
         "b": 0,
         "l": 0,
         "r": 0,
         "t": 40
        },
        "template": {
         "data": {
          "bar": [
           {
            "error_x": {
             "color": "#2a3f5f"
            },
            "error_y": {
             "color": "#2a3f5f"
            },
            "marker": {
             "line": {
              "color": "white",
              "width": 0.5
             },
             "pattern": {
              "fillmode": "overlay",
              "size": 10,
              "solidity": 0.2
             }
            },
            "type": "bar"
           }
          ],
          "barpolar": [
           {
            "marker": {
             "line": {
              "color": "white",
              "width": 0.5
             },
             "pattern": {
              "fillmode": "overlay",
              "size": 10,
              "solidity": 0.2
             }
            },
            "type": "barpolar"
           }
          ],
          "carpet": [
           {
            "aaxis": {
             "endlinecolor": "#2a3f5f",
             "gridcolor": "#C8D4E3",
             "linecolor": "#C8D4E3",
             "minorgridcolor": "#C8D4E3",
             "startlinecolor": "#2a3f5f"
            },
            "baxis": {
             "endlinecolor": "#2a3f5f",
             "gridcolor": "#C8D4E3",
             "linecolor": "#C8D4E3",
             "minorgridcolor": "#C8D4E3",
             "startlinecolor": "#2a3f5f"
            },
            "type": "carpet"
           }
          ],
          "choropleth": [
           {
            "colorbar": {
             "outlinewidth": 0,
             "ticks": ""
            },
            "type": "choropleth"
           }
          ],
          "contour": [
           {
            "colorbar": {
             "outlinewidth": 0,
             "ticks": ""
            },
            "colorscale": [
             [
              0,
              "#0d0887"
             ],
             [
              0.1111111111111111,
              "#46039f"
             ],
             [
              0.2222222222222222,
              "#7201a8"
             ],
             [
              0.3333333333333333,
              "#9c179e"
             ],
             [
              0.4444444444444444,
              "#bd3786"
             ],
             [
              0.5555555555555556,
              "#d8576b"
             ],
             [
              0.6666666666666666,
              "#ed7953"
             ],
             [
              0.7777777777777778,
              "#fb9f3a"
             ],
             [
              0.8888888888888888,
              "#fdca26"
             ],
             [
              1,
              "#f0f921"
             ]
            ],
            "type": "contour"
           }
          ],
          "contourcarpet": [
           {
            "colorbar": {
             "outlinewidth": 0,
             "ticks": ""
            },
            "type": "contourcarpet"
           }
          ],
          "heatmap": [
           {
            "colorbar": {
             "outlinewidth": 0,
             "ticks": ""
            },
            "colorscale": [
             [
              0,
              "#0d0887"
             ],
             [
              0.1111111111111111,
              "#46039f"
             ],
             [
              0.2222222222222222,
              "#7201a8"
             ],
             [
              0.3333333333333333,
              "#9c179e"
             ],
             [
              0.4444444444444444,
              "#bd3786"
             ],
             [
              0.5555555555555556,
              "#d8576b"
             ],
             [
              0.6666666666666666,
              "#ed7953"
             ],
             [
              0.7777777777777778,
              "#fb9f3a"
             ],
             [
              0.8888888888888888,
              "#fdca26"
             ],
             [
              1,
              "#f0f921"
             ]
            ],
            "type": "heatmap"
           }
          ],
          "heatmapgl": [
           {
            "colorbar": {
             "outlinewidth": 0,
             "ticks": ""
            },
            "colorscale": [
             [
              0,
              "#0d0887"
             ],
             [
              0.1111111111111111,
              "#46039f"
             ],
             [
              0.2222222222222222,
              "#7201a8"
             ],
             [
              0.3333333333333333,
              "#9c179e"
             ],
             [
              0.4444444444444444,
              "#bd3786"
             ],
             [
              0.5555555555555556,
              "#d8576b"
             ],
             [
              0.6666666666666666,
              "#ed7953"
             ],
             [
              0.7777777777777778,
              "#fb9f3a"
             ],
             [
              0.8888888888888888,
              "#fdca26"
             ],
             [
              1,
              "#f0f921"
             ]
            ],
            "type": "heatmapgl"
           }
          ],
          "histogram": [
           {
            "marker": {
             "pattern": {
              "fillmode": "overlay",
              "size": 10,
              "solidity": 0.2
             }
            },
            "type": "histogram"
           }
          ],
          "histogram2d": [
           {
            "colorbar": {
             "outlinewidth": 0,
             "ticks": ""
            },
            "colorscale": [
             [
              0,
              "#0d0887"
             ],
             [
              0.1111111111111111,
              "#46039f"
             ],
             [
              0.2222222222222222,
              "#7201a8"
             ],
             [
              0.3333333333333333,
              "#9c179e"
             ],
             [
              0.4444444444444444,
              "#bd3786"
             ],
             [
              0.5555555555555556,
              "#d8576b"
             ],
             [
              0.6666666666666666,
              "#ed7953"
             ],
             [
              0.7777777777777778,
              "#fb9f3a"
             ],
             [
              0.8888888888888888,
              "#fdca26"
             ],
             [
              1,
              "#f0f921"
             ]
            ],
            "type": "histogram2d"
           }
          ],
          "histogram2dcontour": [
           {
            "colorbar": {
             "outlinewidth": 0,
             "ticks": ""
            },
            "colorscale": [
             [
              0,
              "#0d0887"
             ],
             [
              0.1111111111111111,
              "#46039f"
             ],
             [
              0.2222222222222222,
              "#7201a8"
             ],
             [
              0.3333333333333333,
              "#9c179e"
             ],
             [
              0.4444444444444444,
              "#bd3786"
             ],
             [
              0.5555555555555556,
              "#d8576b"
             ],
             [
              0.6666666666666666,
              "#ed7953"
             ],
             [
              0.7777777777777778,
              "#fb9f3a"
             ],
             [
              0.8888888888888888,
              "#fdca26"
             ],
             [
              1,
              "#f0f921"
             ]
            ],
            "type": "histogram2dcontour"
           }
          ],
          "mesh3d": [
           {
            "colorbar": {
             "outlinewidth": 0,
             "ticks": ""
            },
            "type": "mesh3d"
           }
          ],
          "parcoords": [
           {
            "line": {
             "colorbar": {
              "outlinewidth": 0,
              "ticks": ""
             }
            },
            "type": "parcoords"
           }
          ],
          "pie": [
           {
            "automargin": true,
            "type": "pie"
           }
          ],
          "scatter": [
           {
            "fillpattern": {
             "fillmode": "overlay",
             "size": 10,
             "solidity": 0.2
            },
            "type": "scatter"
           }
          ],
          "scatter3d": [
           {
            "line": {
             "colorbar": {
              "outlinewidth": 0,
              "ticks": ""
             }
            },
            "marker": {
             "colorbar": {
              "outlinewidth": 0,
              "ticks": ""
             }
            },
            "type": "scatter3d"
           }
          ],
          "scattercarpet": [
           {
            "marker": {
             "colorbar": {
              "outlinewidth": 0,
              "ticks": ""
             }
            },
            "type": "scattercarpet"
           }
          ],
          "scattergeo": [
           {
            "marker": {
             "colorbar": {
              "outlinewidth": 0,
              "ticks": ""
             }
            },
            "type": "scattergeo"
           }
          ],
          "scattergl": [
           {
            "marker": {
             "colorbar": {
              "outlinewidth": 0,
              "ticks": ""
             }
            },
            "type": "scattergl"
           }
          ],
          "scattermapbox": [
           {
            "marker": {
             "colorbar": {
              "outlinewidth": 0,
              "ticks": ""
             }
            },
            "type": "scattermapbox"
           }
          ],
          "scatterpolar": [
           {
            "marker": {
             "colorbar": {
              "outlinewidth": 0,
              "ticks": ""
             }
            },
            "type": "scatterpolar"
           }
          ],
          "scatterpolargl": [
           {
            "marker": {
             "colorbar": {
              "outlinewidth": 0,
              "ticks": ""
             }
            },
            "type": "scatterpolargl"
           }
          ],
          "scatterternary": [
           {
            "marker": {
             "colorbar": {
              "outlinewidth": 0,
              "ticks": ""
             }
            },
            "type": "scatterternary"
           }
          ],
          "surface": [
           {
            "colorbar": {
             "outlinewidth": 0,
             "ticks": ""
            },
            "colorscale": [
             [
              0,
              "#0d0887"
             ],
             [
              0.1111111111111111,
              "#46039f"
             ],
             [
              0.2222222222222222,
              "#7201a8"
             ],
             [
              0.3333333333333333,
              "#9c179e"
             ],
             [
              0.4444444444444444,
              "#bd3786"
             ],
             [
              0.5555555555555556,
              "#d8576b"
             ],
             [
              0.6666666666666666,
              "#ed7953"
             ],
             [
              0.7777777777777778,
              "#fb9f3a"
             ],
             [
              0.8888888888888888,
              "#fdca26"
             ],
             [
              1,
              "#f0f921"
             ]
            ],
            "type": "surface"
           }
          ],
          "table": [
           {
            "cells": {
             "fill": {
              "color": "#EBF0F8"
             },
             "line": {
              "color": "white"
             }
            },
            "header": {
             "fill": {
              "color": "#C8D4E3"
             },
             "line": {
              "color": "white"
             }
            },
            "type": "table"
           }
          ]
         },
         "layout": {
          "annotationdefaults": {
           "arrowcolor": "#2a3f5f",
           "arrowhead": 0,
           "arrowwidth": 1
          },
          "autotypenumbers": "strict",
          "coloraxis": {
           "colorbar": {
            "outlinewidth": 0,
            "ticks": ""
           }
          },
          "colorscale": {
           "diverging": [
            [
             0,
             "#8e0152"
            ],
            [
             0.1,
             "#c51b7d"
            ],
            [
             0.2,
             "#de77ae"
            ],
            [
             0.3,
             "#f1b6da"
            ],
            [
             0.4,
             "#fde0ef"
            ],
            [
             0.5,
             "#f7f7f7"
            ],
            [
             0.6,
             "#e6f5d0"
            ],
            [
             0.7,
             "#b8e186"
            ],
            [
             0.8,
             "#7fbc41"
            ],
            [
             0.9,
             "#4d9221"
            ],
            [
             1,
             "#276419"
            ]
           ],
           "sequential": [
            [
             0,
             "#0d0887"
            ],
            [
             0.1111111111111111,
             "#46039f"
            ],
            [
             0.2222222222222222,
             "#7201a8"
            ],
            [
             0.3333333333333333,
             "#9c179e"
            ],
            [
             0.4444444444444444,
             "#bd3786"
            ],
            [
             0.5555555555555556,
             "#d8576b"
            ],
            [
             0.6666666666666666,
             "#ed7953"
            ],
            [
             0.7777777777777778,
             "#fb9f3a"
            ],
            [
             0.8888888888888888,
             "#fdca26"
            ],
            [
             1,
             "#f0f921"
            ]
           ],
           "sequentialminus": [
            [
             0,
             "#0d0887"
            ],
            [
             0.1111111111111111,
             "#46039f"
            ],
            [
             0.2222222222222222,
             "#7201a8"
            ],
            [
             0.3333333333333333,
             "#9c179e"
            ],
            [
             0.4444444444444444,
             "#bd3786"
            ],
            [
             0.5555555555555556,
             "#d8576b"
            ],
            [
             0.6666666666666666,
             "#ed7953"
            ],
            [
             0.7777777777777778,
             "#fb9f3a"
            ],
            [
             0.8888888888888888,
             "#fdca26"
            ],
            [
             1,
             "#f0f921"
            ]
           ]
          },
          "colorway": [
           "#636efa",
           "#EF553B",
           "#00cc96",
           "#ab63fa",
           "#FFA15A",
           "#19d3f3",
           "#FF6692",
           "#B6E880",
           "#FF97FF",
           "#FECB52"
          ],
          "font": {
           "color": "#2a3f5f"
          },
          "geo": {
           "bgcolor": "white",
           "lakecolor": "white",
           "landcolor": "white",
           "showlakes": true,
           "showland": true,
           "subunitcolor": "#C8D4E3"
          },
          "hoverlabel": {
           "align": "left"
          },
          "hovermode": "closest",
          "mapbox": {
           "style": "light"
          },
          "paper_bgcolor": "white",
          "plot_bgcolor": "white",
          "polar": {
           "angularaxis": {
            "gridcolor": "#EBF0F8",
            "linecolor": "#EBF0F8",
            "ticks": ""
           },
           "bgcolor": "white",
           "radialaxis": {
            "gridcolor": "#EBF0F8",
            "linecolor": "#EBF0F8",
            "ticks": ""
           }
          },
          "scene": {
           "xaxis": {
            "backgroundcolor": "white",
            "gridcolor": "#DFE8F3",
            "gridwidth": 2,
            "linecolor": "#EBF0F8",
            "showbackground": true,
            "ticks": "",
            "zerolinecolor": "#EBF0F8"
           },
           "yaxis": {
            "backgroundcolor": "white",
            "gridcolor": "#DFE8F3",
            "gridwidth": 2,
            "linecolor": "#EBF0F8",
            "showbackground": true,
            "ticks": "",
            "zerolinecolor": "#EBF0F8"
           },
           "zaxis": {
            "backgroundcolor": "white",
            "gridcolor": "#DFE8F3",
            "gridwidth": 2,
            "linecolor": "#EBF0F8",
            "showbackground": true,
            "ticks": "",
            "zerolinecolor": "#EBF0F8"
           }
          },
          "shapedefaults": {
           "line": {
            "color": "#2a3f5f"
           }
          },
          "ternary": {
           "aaxis": {
            "gridcolor": "#DFE8F3",
            "linecolor": "#A2B1C6",
            "ticks": ""
           },
           "baxis": {
            "gridcolor": "#DFE8F3",
            "linecolor": "#A2B1C6",
            "ticks": ""
           },
           "bgcolor": "white",
           "caxis": {
            "gridcolor": "#DFE8F3",
            "linecolor": "#A2B1C6",
            "ticks": ""
           }
          },
          "title": {
           "x": 0.05
          },
          "xaxis": {
           "automargin": true,
           "gridcolor": "#EBF0F8",
           "linecolor": "#EBF0F8",
           "ticks": "",
           "title": {
            "standoff": 15
           },
           "zerolinecolor": "#EBF0F8",
           "zerolinewidth": 2
          },
          "yaxis": {
           "automargin": true,
           "gridcolor": "#EBF0F8",
           "linecolor": "#EBF0F8",
           "ticks": "",
           "title": {
            "standoff": 15
           },
           "zerolinecolor": "#EBF0F8",
           "zerolinewidth": 2
          }
         }
        },
        "title": {
         "text": "Bubble Chart"
        },
        "width": 500,
        "xaxis": {
         "visible": false
        },
        "yaxis": {
         "visible": false
        }
       }
      }
     },
     "metadata": {},
     "output_type": "display_data"
    }
   ],
   "source": [
    "import numpy as np\n",
    "import pandas as pd\n",
    "import plotly.graph_objects as go\n",
    "\n",
    "class BubbleChartPlotly:\n",
    "    def __init__(self, labels, area, colors, bubble_spacing=10, plot_diameter=500):\n",
    "        self.labels = labels\n",
    "        self.colors = colors\n",
    "        self.area = np.asarray(area)\n",
    "        self.plot_diameter = plot_diameter\n",
    "        self.plot_radius = plot_diameter / 2.5\n",
    "        self.bubble_spacing = bubble_spacing\n",
    "        total_area = np.sum(self.area)\n",
    "        max_allowed_area = (np.pi * (self.plot_radius ** 2)) * 0.6\n",
    "        scale_factor = max_allowed_area / total_area\n",
    "        self.scaled_area = self.area * scale_factor\n",
    "        self.radii = np.sqrt(self.scaled_area / np.pi)\n",
    "        self.bubbles = np.ones((len(area), 4))\n",
    "        self.bubbles[:, 2] = self.radii\n",
    "        self.bubbles[:, 3] = self.scaled_area\n",
    "        self.maxstep = 2 * self.bubbles[:, 2].max() + self.bubble_spacing\n",
    "        self.step_dist = self.maxstep / 2\n",
    "        length = np.ceil(np.sqrt(len(self.bubbles)))\n",
    "        grid = np.arange(length) * self.maxstep\n",
    "        gx, gy = np.meshgrid(grid, grid)\n",
    "        self.bubbles[:, 0] = gx.flatten()[:len(self.bubbles)]\n",
    "        self.bubbles[:, 1] = gy.flatten()[:len(self.bubbles)]\n",
    "        self.com = self.center_of_mass()\n",
    "\n",
    "    def center_of_mass(self):\n",
    "        return np.average(self.bubbles[:, :2], axis=0, weights=self.bubbles[:, 3])\n",
    "\n",
    "    def center_distance(self, bubble, bubbles):\n",
    "        return np.hypot(bubble[0] - bubbles[:, 0], bubble[1] - bubbles[:, 1])\n",
    "\n",
    "    def outline_distance(self, bubble, bubbles):\n",
    "        return self.center_distance(bubble, bubbles) - bubble[2] - bubbles[:, 2] - self.bubble_spacing\n",
    "\n",
    "    def check_collisions(self, bubble, bubbles):\n",
    "        distance = self.outline_distance(bubble, bubbles)\n",
    "        return len(distance[distance < 0])\n",
    "\n",
    "    def collides_with(self, bubble, bubbles):\n",
    "        distance = self.outline_distance(bubble, bubbles)\n",
    "        return np.argmin(distance, keepdims=True)\n",
    "\n",
    "    def collapse(self, n_iterations=100):\n",
    "        for _ in range(n_iterations):\n",
    "            moves = 0\n",
    "            for i in range(len(self.bubbles)):\n",
    "                rest_bub = np.delete(self.bubbles, i, 0)\n",
    "                dir_vec = self.com - self.bubbles[i, :2]\n",
    "                norm = np.linalg.norm(dir_vec)\n",
    "                if norm == 0:\n",
    "                    continue\n",
    "                dir_vec = dir_vec / norm\n",
    "                new_point = self.bubbles[i, :2] + dir_vec * self.step_dist\n",
    "                new_bubble = np.append(new_point, self.bubbles[i, 2:4])\n",
    "\n",
    "                if not self.check_collisions(new_bubble, rest_bub):\n",
    "                    self.bubbles[i, :] = new_bubble\n",
    "                    self.com = self.center_of_mass()\n",
    "                    moves += 1\n",
    "                else:\n",
    "                    for colliding in self.collides_with(new_bubble, rest_bub):\n",
    "                        dir_vec = rest_bub[colliding, :2] - self.bubbles[i, :2]\n",
    "                        norm = np.linalg.norm(dir_vec)\n",
    "                        if norm == 0:\n",
    "                            continue\n",
    "                        dir_vec = dir_vec / norm\n",
    "                        orth = np.array([dir_vec[1], -dir_vec[0]])\n",
    "                        new_point1 = self.bubbles[i, :2] + orth * self.step_dist\n",
    "                        new_point2 = self.bubbles[i, :2] - orth * self.step_dist\n",
    "                        dist1 = self.center_distance(self.com, np.array([new_point1]))\n",
    "                        dist2 = self.center_distance(self.com, np.array([new_point2]))\n",
    "                        new_point = new_point1 if dist1 < dist2 else new_point2\n",
    "                        new_bubble = np.append(new_point, self.bubbles[i, 2:4])\n",
    "                        if not self.check_collisions(new_bubble, rest_bub):\n",
    "                            self.bubbles[i, :] = new_bubble\n",
    "                            self.com = self.center_of_mass()\n",
    "            if moves / len(self.bubbles) < 0.05:\n",
    "                self.step_dist /= 2\n",
    "\n",
    "    def to_dataframe(self):\n",
    "        return pd.DataFrame({\n",
    "            'x': self.bubbles[:, 0],\n",
    "            'y': self.bubbles[:, 1],\n",
    "            'radius': self.bubbles[:, 2],\n",
    "            'size': self.bubbles[:, 3],\n",
    "            'label': self.labels,\n",
    "            'color': self.colors\n",
    "        })\n",
    "\n",
    "\n",
    "def plot_bubble_chart_plotly(df, plot_diameter=500):\n",
    "    chart = BubbleChartPlotly(\n",
    "        labels=df['label'],\n",
    "        area=df['size'],\n",
    "        colors=df['color'],\n",
    "        bubble_spacing=2,\n",
    "        plot_diameter=plot_diameter\n",
    "    )\n",
    "    chart.collapse()\n",
    "    df_bubbles = chart.to_dataframe()\n",
    "    df_bubbles['size_px'] = df_bubbles['radius'] * 2\n",
    "\n",
    "    fig = go.Figure()\n",
    "    fig.add_trace(go.Scatter(\n",
    "        x=df_bubbles['x'],\n",
    "        y=df_bubbles['y'],\n",
    "        mode='markers+text',\n",
    "        marker=dict(\n",
    "            size=df_bubbles['size_px'],\n",
    "            color=df_bubbles['color'],     \n",
    "            sizemode='diameter',\n",
    "            opacity=0.9,\n",
    "        ),\n",
    "        text=df_bubbles['size'].round(2).astype(str),\n",
    "        textposition='middle center',\n",
    "        textfont=dict(\n",
    "            size=np.clip(df_bubbles['size'] / df_bubbles['size'].max() * 20, 5, 18)\n",
    "        ),\n",
    "        hovertemplate=(\n",
    "            '<b>%{customdata[0]}</b><br>' + \n",
    "            'Size: %{text}' +               \n",
    "            '<extra></extra>'               \n",
    "        ),\n",
    "        customdata=df_bubbles[['label']],\n",
    "    ))\n",
    "\n",
    "    fig.update_layout(\n",
    "        title='Bubble Chart',\n",
    "        template='plotly_white',\n",
    "        xaxis=dict(visible=False),\n",
    "        yaxis=dict(visible=False),\n",
    "        margin=dict(l=0, r=0, t=40, b=0),\n",
    "        height=plot_diameter,\n",
    "        width=plot_diameter\n",
    "    )\n",
    "\n",
    "    fig.show()\n",
    "\n",
    "n_bubbles = 20\n",
    "colors = ['#00C1B2','#FF5E5B','#A28DFF','#2EC4B6','#E71D36','#FF9F1C','#8A4FFF','#00CC66' ]\n",
    "df = pd.DataFrame({\n",
    "    'label': [f'Item {i}' for i in range(n_bubbles)],\n",
    "    'size': np.random.randint(2, 250, n_bubbles),\n",
    "    'color': np.random.choice(colors, n_bubbles)\n",
    "})\n",
    "plot_bubble_chart_plotly(df, plot_diameter=500)\n"
   ]
  },
  {
   "cell_type": "code",
   "execution_count": null,
   "id": "f127b424",
   "metadata": {},
   "outputs": [],
   "source": []
  }
 ],
 "metadata": {
  "kernelspec": {
   "display_name": "base",
   "language": "python",
   "name": "python3"
  },
  "language_info": {
   "codemirror_mode": {
    "name": "ipython",
    "version": 3
   },
   "file_extension": ".py",
   "mimetype": "text/x-python",
   "name": "python",
   "nbconvert_exporter": "python",
   "pygments_lexer": "ipython3",
   "version": "3.12.7"
  }
 },
 "nbformat": 4,
 "nbformat_minor": 5
}
